{
 "cells": [
  {
   "cell_type": "markdown",
   "source": [
    "# FlakyPaper"
   ],
   "metadata": {
    "collapsed": false,
    "pycharm": {
     "name": "#%% md\n"
    }
   }
  },
  {
   "cell_type": "markdown",
   "source": [
    "## Business Understanding"
   ],
   "metadata": {
    "collapsed": false,
    "pycharm": {
     "name": "#%% md\n"
    }
   }
  },
  {
   "cell_type": "markdown",
   "source": [
    "Whenever new code is written to develop or update software, a Web page, or an app, it must be tested throughout the development process to ensure that the application does what it is supposed to do when it is released for use. Logically, when subjected to the same test over and over again, the code will produce the same result: the application will either work correctly each time, thus passing the test, or it will not work correctly each time, thus failing the test.\n",
    "\n",
    "However, seemingly at random, occasionally the same test will produce different results on the same codebase. Sometimes it will show that the code passed the test and the application worked as planned, and sometimes it will show that the code failed the test and did not work as planned. When this happens, the test is considered flaky.\n",
    "\n",
    "Flaky can be caused by several factors:\n",
    "1. a problem with the code just written\n",
    "2. a problem with the test itself\n",
    "3. some external factors that compromise the test results.\n",
    "\n",
    "It is not always easy to detect such tests, it may happen that we run a test 10000 times and always have the same result, but if we run the test one more time we will have a different result. The purpose of \"FlakyPaper\" is..."
   ],
   "metadata": {
    "collapsed": false,
    "pycharm": {
     "name": "#%% md\n"
    }
   }
  },
  {
   "cell_type": "markdown",
   "source": [
    "## Data Engineering"
   ],
   "metadata": {
    "collapsed": false,
    "pycharm": {
     "name": "#%% md\n"
    }
   }
  },
  {
   "cell_type": "markdown",
   "source": [
    "There are two datasets to preprocess. The first is \"DatasetGenerale.csv\"."
   ],
   "metadata": {
    "collapsed": false,
    "pycharm": {
     "name": "#%% md\n"
    }
   }
  },
  {
   "cell_type": "code",
   "execution_count": 1,
   "outputs": [],
   "source": [
    "import pandas\n",
    "import os\n",
    "\n",
    "DATASET_NAME = \"DatasetGenerale2.csv\"\n",
    "\n",
    "def loading_data_set(dataset_name):\n",
    "    current_directory = os.getcwd()\n",
    "    csv_path = os.path.join(current_directory,dataset_name)\n",
    "    return pandas.read_csv(csv_path)\n",
    "\n",
    "dataset = loading_data_set(DATASET_NAME)"
   ],
   "metadata": {
    "collapsed": false,
    "pycharm": {
     "name": "#%%\n"
    }
   }
  },
  {
   "cell_type": "markdown",
   "source": [
    "### Data Understanding"
   ],
   "metadata": {
    "collapsed": false,
    "pycharm": {
     "name": "#%% md\n"
    }
   }
  },
  {
   "cell_type": "code",
   "execution_count": 2,
   "outputs": [
    {
     "data": {
      "text/plain": "   idProject nameProject                                           testCase  \\\n0          1    Activiti  org.activiti.runtime.api.model.impl.APITaskCan...   \n1          1    Activiti  org.activiti.runtime.api.model.impl.APITaskCan...   \n2          1    Activiti  org.activiti.runtime.api.model.impl.APITaskCon...   \n3          1    Activiti  org.activiti.runtime.api.model.impl.APITaskCon...   \n4          1    Activiti  org.activiti.runtime.api.model.impl.APITaskCon...   \n\n       tloc   tmcCabe  assertionDensity  assertionRoulette  mysteryGuest  \\\n0  0.157329  0.017481          0.003885           0.017481           0.0   \n1  0.157329  0.017481          0.003885           0.017481           0.0   \n2  0.007551  0.003776          0.000000           0.000000           0.0   \n3  0.007551  0.003776          0.000000           0.000000           0.0   \n4  0.007551  0.003776          0.000000           0.000000           0.0   \n\n   eagerTest  sensitiveEquality  ...       mpc  halsteadVocabulary  \\\n0   0.017481                0.0  ...  0.034962            0.419544   \n1   0.017481                0.0  ...  0.034962            0.419544   \n2   0.000000                0.0  ...  0.105719            0.558802   \n3   0.000000                0.0  ...  0.105719            0.558802   \n4   0.000000                0.0  ...  0.105719            0.558802   \n\n   halsteadLength  halsteadVolume  classDataShouldBePrivate  complexClass  \\\n0        0.314658             1.0                       0.0           0.0   \n1        0.314658             1.0                       0.0           0.0   \n2        0.200112             1.0                       0.0           0.0   \n3        0.200112             1.0                       0.0           0.0   \n4        0.200112             1.0                       0.0           0.0   \n\n   functionalDecomposition  godClass  spaghettiCode  isFlaky  \n0                 0.017481       0.0            0.0        0  \n1                 0.017481       0.0            0.0        0  \n2                 0.007551       0.0            0.0        0  \n3                 0.007551       0.0            0.0        0  \n4                 0.007551       0.0            0.0        0  \n\n[5 rows x 30 columns]",
      "text/html": "<div>\n<style scoped>\n    .dataframe tbody tr th:only-of-type {\n        vertical-align: middle;\n    }\n\n    .dataframe tbody tr th {\n        vertical-align: top;\n    }\n\n    .dataframe thead th {\n        text-align: right;\n    }\n</style>\n<table border=\"1\" class=\"dataframe\">\n  <thead>\n    <tr style=\"text-align: right;\">\n      <th></th>\n      <th>idProject</th>\n      <th>nameProject</th>\n      <th>testCase</th>\n      <th>tloc</th>\n      <th>tmcCabe</th>\n      <th>assertionDensity</th>\n      <th>assertionRoulette</th>\n      <th>mysteryGuest</th>\n      <th>eagerTest</th>\n      <th>sensitiveEquality</th>\n      <th>...</th>\n      <th>mpc</th>\n      <th>halsteadVocabulary</th>\n      <th>halsteadLength</th>\n      <th>halsteadVolume</th>\n      <th>classDataShouldBePrivate</th>\n      <th>complexClass</th>\n      <th>functionalDecomposition</th>\n      <th>godClass</th>\n      <th>spaghettiCode</th>\n      <th>isFlaky</th>\n    </tr>\n  </thead>\n  <tbody>\n    <tr>\n      <th>0</th>\n      <td>1</td>\n      <td>Activiti</td>\n      <td>org.activiti.runtime.api.model.impl.APITaskCan...</td>\n      <td>0.157329</td>\n      <td>0.017481</td>\n      <td>0.003885</td>\n      <td>0.017481</td>\n      <td>0.0</td>\n      <td>0.017481</td>\n      <td>0.0</td>\n      <td>...</td>\n      <td>0.034962</td>\n      <td>0.419544</td>\n      <td>0.314658</td>\n      <td>1.0</td>\n      <td>0.0</td>\n      <td>0.0</td>\n      <td>0.017481</td>\n      <td>0.0</td>\n      <td>0.0</td>\n      <td>0</td>\n    </tr>\n    <tr>\n      <th>1</th>\n      <td>1</td>\n      <td>Activiti</td>\n      <td>org.activiti.runtime.api.model.impl.APITaskCan...</td>\n      <td>0.157329</td>\n      <td>0.017481</td>\n      <td>0.003885</td>\n      <td>0.017481</td>\n      <td>0.0</td>\n      <td>0.017481</td>\n      <td>0.0</td>\n      <td>...</td>\n      <td>0.034962</td>\n      <td>0.419544</td>\n      <td>0.314658</td>\n      <td>1.0</td>\n      <td>0.0</td>\n      <td>0.0</td>\n      <td>0.017481</td>\n      <td>0.0</td>\n      <td>0.0</td>\n      <td>0</td>\n    </tr>\n    <tr>\n      <th>2</th>\n      <td>1</td>\n      <td>Activiti</td>\n      <td>org.activiti.runtime.api.model.impl.APITaskCon...</td>\n      <td>0.007551</td>\n      <td>0.003776</td>\n      <td>0.000000</td>\n      <td>0.000000</td>\n      <td>0.0</td>\n      <td>0.000000</td>\n      <td>0.0</td>\n      <td>...</td>\n      <td>0.105719</td>\n      <td>0.558802</td>\n      <td>0.200112</td>\n      <td>1.0</td>\n      <td>0.0</td>\n      <td>0.0</td>\n      <td>0.007551</td>\n      <td>0.0</td>\n      <td>0.0</td>\n      <td>0</td>\n    </tr>\n    <tr>\n      <th>3</th>\n      <td>1</td>\n      <td>Activiti</td>\n      <td>org.activiti.runtime.api.model.impl.APITaskCon...</td>\n      <td>0.007551</td>\n      <td>0.003776</td>\n      <td>0.000000</td>\n      <td>0.000000</td>\n      <td>0.0</td>\n      <td>0.000000</td>\n      <td>0.0</td>\n      <td>...</td>\n      <td>0.105719</td>\n      <td>0.558802</td>\n      <td>0.200112</td>\n      <td>1.0</td>\n      <td>0.0</td>\n      <td>0.0</td>\n      <td>0.007551</td>\n      <td>0.0</td>\n      <td>0.0</td>\n      <td>0</td>\n    </tr>\n    <tr>\n      <th>4</th>\n      <td>1</td>\n      <td>Activiti</td>\n      <td>org.activiti.runtime.api.model.impl.APITaskCon...</td>\n      <td>0.007551</td>\n      <td>0.003776</td>\n      <td>0.000000</td>\n      <td>0.000000</td>\n      <td>0.0</td>\n      <td>0.000000</td>\n      <td>0.0</td>\n      <td>...</td>\n      <td>0.105719</td>\n      <td>0.558802</td>\n      <td>0.200112</td>\n      <td>1.0</td>\n      <td>0.0</td>\n      <td>0.0</td>\n      <td>0.007551</td>\n      <td>0.0</td>\n      <td>0.0</td>\n      <td>0</td>\n    </tr>\n  </tbody>\n</table>\n<p>5 rows × 30 columns</p>\n</div>"
     },
     "execution_count": 2,
     "metadata": {},
     "output_type": "execute_result"
    }
   ],
   "source": [
    "dataset.head()"
   ],
   "metadata": {
    "collapsed": false,
    "pycharm": {
     "name": "#%%\n"
    }
   }
  },
  {
   "cell_type": "code",
   "execution_count": 3,
   "outputs": [
    {
     "name": "stdout",
     "output_type": "stream",
     "text": [
      "<class 'pandas.core.frame.DataFrame'>\n",
      "RangeIndex: 224826 entries, 0 to 224825\n",
      "Data columns (total 30 columns):\n",
      " #   Column                    Non-Null Count   Dtype  \n",
      "---  ------                    --------------   -----  \n",
      " 0   idProject                 224826 non-null  int64  \n",
      " 1   nameProject               224826 non-null  object \n",
      " 2   testCase                  224826 non-null  object \n",
      " 3   tloc                      224826 non-null  float64\n",
      " 4   tmcCabe                   224826 non-null  float64\n",
      " 5   assertionDensity          224826 non-null  float64\n",
      " 6   assertionRoulette         224826 non-null  float64\n",
      " 7   mysteryGuest              224826 non-null  float64\n",
      " 8   eagerTest                 224826 non-null  float64\n",
      " 9   sensitiveEquality         224826 non-null  float64\n",
      " 10  resourceOptimism          224826 non-null  float64\n",
      " 11  conditionalTestLogic      224826 non-null  float64\n",
      " 12  fireAndForget             224826 non-null  float64\n",
      " 13  testRunWar                224826 non-null  float64\n",
      " 14  loc                       224826 non-null  float64\n",
      " 15  lcom2                     224826 non-null  float64\n",
      " 16  lcom5                     224826 non-null  float64\n",
      " 17  cbo                       224826 non-null  float64\n",
      " 18  wmc                       224826 non-null  float64\n",
      " 19  rfc                       224826 non-null  float64\n",
      " 20  mpc                       224826 non-null  float64\n",
      " 21  halsteadVocabulary        224826 non-null  float64\n",
      " 22  halsteadLength            224826 non-null  float64\n",
      " 23  halsteadVolume            224826 non-null  float64\n",
      " 24  classDataShouldBePrivate  224826 non-null  float64\n",
      " 25  complexClass              224826 non-null  float64\n",
      " 26  functionalDecomposition   224826 non-null  float64\n",
      " 27  godClass                  224826 non-null  float64\n",
      " 28  spaghettiCode             224826 non-null  float64\n",
      " 29  isFlaky                   224826 non-null  int64  \n",
      "dtypes: float64(26), int64(2), object(2)\n",
      "memory usage: 51.5+ MB\n"
     ]
    }
   ],
   "source": [
    "dataset.info()"
   ],
   "metadata": {
    "collapsed": false,
    "pycharm": {
     "name": "#%%\n"
    }
   }
  },
  {
   "cell_type": "markdown",
   "source": [
    "| Features                 | Descrizione                                                                                                        |\n",
    "|--------------------------|--------------------------------------------------------------------------------------------------------------------|\n",
    "| Id                       | Project id                                                                                                         |\n",
    "| NameProject              | Project name                                                                                                       |\n",
    "| TestCase                 | Test case in exam                                                                                                  |\n",
    "| tloc                     | Number of lines of code in a test suite                                                                          |\n",
    "| tmcCabe                  | Sum of cyclomatic complexities of all methods of a class                                                           |\n",
    "| assertionDensity         | Percentage of assercions in a test suite                                                                           |\n",
    "| assertionRoulette        | Metric indicating whether the test has more than one undocumented assertion                                        |\n",
    "| mysteryGuest             | Metric indicating whether the test uses an external resource (e.g., database,file ...)                             |\n",
    "| eagerTest                | Metric that indicates whether a test invokes several methods of the production object.                             |\n",
    "| sensitiveEquality        | Indicates whether the toString method and utilizzado in the test                                                   |\n",
    "| resourceOptimism         | Method that makes optimistic assumptions about the existence of a resource (e.g., file) used within it             |\n",
    "| conditionalTestLogic     | The test has conditional logic in it that does different things depending on the current environment.              |\n",
    "| fireAndForget            | Test ending prematurely as it does not wait for responses from external calls                                      |\n",
    "| loc                      | lines of code including comments                                                                                   |\n",
    "| lcom2                    | Modified lcom1                                                                                                     |\n",
    "| lcom5                    | Modified lcom1                                                                                                     |\n",
    "| cbo                      | Number of dependencies of a class with other classes                                                                |\n",
    "| wmc                      | Sum of the cyclomatic complexities of all methods of a class                                               |\n",
    "| rfc                      | Number of methods (including inherited methods) that can be called from other classes                           |\n",
    "| mpc                      |  numbers of messages passing among objects of the class                                                                                                                  |\n",
    "| halsteadVocabulary       | Gaussian                                                                                                           |\n",
    "| halsteadLength           | Total number of distinct operators and operands a function                                                     |\n",
    "| halsteadVolume           | Memory (in bits) required to store the program                                                           |\n",
    "| classDataShouldBePrivate | Class that exposes its attributes, violating the principle of information hiding.                                 |\n",
    "| complexClass             | Cyclomatic complexity of a class, or the number of linearly independent paths within the class |\n",
    "| functionalDecomposition  | Metric that indicates whether inheritance and polymorphism are used incorrectly in a class.                 |\n",
    "| godClass                 | Large class size implementing several responsibilities                                                  |\n",
    "| spaghettiCode            | Class does not possess a consistent structure e.g. an excessively long method that has no parameters   |\n",
    "| isFlaky                  | Boolean indicating whether the test is flaky or not                                                                   |"
   ],
   "metadata": {
    "collapsed": false,
    "pycharm": {
     "name": "#%% md\n"
    }
   }
  },
  {
   "cell_type": "code",
   "execution_count": 4,
   "outputs": [
    {
     "data": {
      "text/plain": "            idProject nameProject                                   testCase  \\\ncount   224826.000000      224826                                     224826   \nunique            NaN         207                                     201277   \ntop               NaN       guava  org.apache.flink.cep.nfa.NFAITCase.filter   \nfreq              NaN       14587                                        151   \nmean        44.508887         NaN                                        NaN   \nstd         24.703146         NaN                                        NaN   \nmin          1.000000         NaN                                        NaN   \n25%         23.000000         NaN                                        NaN   \n50%         44.000000         NaN                                        NaN   \n75%         59.000000         NaN                                        NaN   \nmax         95.000000         NaN                                        NaN   \n\n                 tloc        tmcCabe  assertionDensity  assertionRoulette  \\\ncount   224826.000000  224826.000000     224826.000000      224826.000000   \nunique            NaN            NaN               NaN                NaN   \ntop               NaN            NaN               NaN                NaN   \nfreq              NaN            NaN               NaN                NaN   \nmean         0.011851       0.002670          0.000147           0.001519   \nstd          0.032441       0.006041          0.000675           0.007648   \nmin          0.000017       0.000012          0.000000           0.000000   \n25%          0.001807       0.000463          0.000000           0.000000   \n50%          0.004597       0.001113          0.000000           0.000000   \n75%          0.011041       0.002636          0.000080           0.001024   \nmax          1.000000       0.214286          0.060897           0.975904   \n\n         mysteryGuest      eagerTest  sensitiveEquality  ...            mpc  \\\ncount   224826.000000  224826.000000      224826.000000  ...  224826.000000   \nunique            NaN            NaN                NaN  ...            NaN   \ntop               NaN            NaN                NaN  ...            NaN   \nfreq              NaN            NaN                NaN  ...            NaN   \nmean         0.000393       0.001034           0.000068  ...       0.025684   \nstd          0.004093       0.002580           0.000934  ...       0.028276   \nmin          0.000000       0.000000           0.000000  ...       0.000000   \n25%          0.000000       0.000000           0.000000  ...       0.008715   \n50%          0.000000       0.000134           0.000000  ...       0.018736   \n75%          0.000000       0.001118           0.000000  ...       0.032696   \nmax          0.776669       0.111269           0.124267  ...       0.336918   \n\n        halsteadVocabulary  halsteadLength  halsteadVolume  \\\ncount        224826.000000   224826.000000   224826.000000   \nunique                 NaN             NaN             NaN   \ntop                    NaN             NaN             NaN   \nfreq                   NaN             NaN             NaN   \nmean              0.617342        0.149970        0.981905   \nstd               0.183309        0.038452        0.082103   \nmin               0.030488        0.016053        0.084707   \n25%               0.483244        0.126667        1.000000   \n50%               0.588916        0.144433        1.000000   \n75%               0.725551        0.167044        1.000000   \nmax               1.000000        0.721348        1.000000   \n\n        classDataShouldBePrivate   complexClass  functionalDecomposition  \\\ncount              224826.000000  224826.000000            224826.000000   \nunique                       NaN            NaN                      NaN   \ntop                          NaN            NaN                      NaN   \nfreq                         NaN            NaN                      NaN   \nmean                    0.000179       0.002192                 0.000511   \nstd                     0.001511       0.008483                 0.002817   \nmin                     0.000000       0.000000                 0.000000   \n25%                     0.000000       0.000000                 0.000000   \n50%                     0.000000       0.000000                 0.000000   \n75%                     0.000000       0.000000                 0.000000   \nmax                     0.139025       0.107765                 0.100000   \n\n             godClass  spaghettiCode        isFlaky  \ncount   224826.000000  224826.000000  224826.000000  \nunique            NaN            NaN            NaN  \ntop               NaN            NaN            NaN  \nfreq              NaN            NaN            NaN  \nmean         0.002704       0.007061       0.007548  \nstd          0.039785       0.022127       0.086551  \nmin         -0.071535       0.000000       0.000000  \n25%          0.000000       0.000000       0.000000  \n50%          0.000000       0.000000       0.000000  \n75%          0.000000       0.000000       0.000000  \nmax          1.000000       0.153293       1.000000  \n\n[11 rows x 30 columns]",
      "text/html": "<div>\n<style scoped>\n    .dataframe tbody tr th:only-of-type {\n        vertical-align: middle;\n    }\n\n    .dataframe tbody tr th {\n        vertical-align: top;\n    }\n\n    .dataframe thead th {\n        text-align: right;\n    }\n</style>\n<table border=\"1\" class=\"dataframe\">\n  <thead>\n    <tr style=\"text-align: right;\">\n      <th></th>\n      <th>idProject</th>\n      <th>nameProject</th>\n      <th>testCase</th>\n      <th>tloc</th>\n      <th>tmcCabe</th>\n      <th>assertionDensity</th>\n      <th>assertionRoulette</th>\n      <th>mysteryGuest</th>\n      <th>eagerTest</th>\n      <th>sensitiveEquality</th>\n      <th>...</th>\n      <th>mpc</th>\n      <th>halsteadVocabulary</th>\n      <th>halsteadLength</th>\n      <th>halsteadVolume</th>\n      <th>classDataShouldBePrivate</th>\n      <th>complexClass</th>\n      <th>functionalDecomposition</th>\n      <th>godClass</th>\n      <th>spaghettiCode</th>\n      <th>isFlaky</th>\n    </tr>\n  </thead>\n  <tbody>\n    <tr>\n      <th>count</th>\n      <td>224826.000000</td>\n      <td>224826</td>\n      <td>224826</td>\n      <td>224826.000000</td>\n      <td>224826.000000</td>\n      <td>224826.000000</td>\n      <td>224826.000000</td>\n      <td>224826.000000</td>\n      <td>224826.000000</td>\n      <td>224826.000000</td>\n      <td>...</td>\n      <td>224826.000000</td>\n      <td>224826.000000</td>\n      <td>224826.000000</td>\n      <td>224826.000000</td>\n      <td>224826.000000</td>\n      <td>224826.000000</td>\n      <td>224826.000000</td>\n      <td>224826.000000</td>\n      <td>224826.000000</td>\n      <td>224826.000000</td>\n    </tr>\n    <tr>\n      <th>unique</th>\n      <td>NaN</td>\n      <td>207</td>\n      <td>201277</td>\n      <td>NaN</td>\n      <td>NaN</td>\n      <td>NaN</td>\n      <td>NaN</td>\n      <td>NaN</td>\n      <td>NaN</td>\n      <td>NaN</td>\n      <td>...</td>\n      <td>NaN</td>\n      <td>NaN</td>\n      <td>NaN</td>\n      <td>NaN</td>\n      <td>NaN</td>\n      <td>NaN</td>\n      <td>NaN</td>\n      <td>NaN</td>\n      <td>NaN</td>\n      <td>NaN</td>\n    </tr>\n    <tr>\n      <th>top</th>\n      <td>NaN</td>\n      <td>guava</td>\n      <td>org.apache.flink.cep.nfa.NFAITCase.filter</td>\n      <td>NaN</td>\n      <td>NaN</td>\n      <td>NaN</td>\n      <td>NaN</td>\n      <td>NaN</td>\n      <td>NaN</td>\n      <td>NaN</td>\n      <td>...</td>\n      <td>NaN</td>\n      <td>NaN</td>\n      <td>NaN</td>\n      <td>NaN</td>\n      <td>NaN</td>\n      <td>NaN</td>\n      <td>NaN</td>\n      <td>NaN</td>\n      <td>NaN</td>\n      <td>NaN</td>\n    </tr>\n    <tr>\n      <th>freq</th>\n      <td>NaN</td>\n      <td>14587</td>\n      <td>151</td>\n      <td>NaN</td>\n      <td>NaN</td>\n      <td>NaN</td>\n      <td>NaN</td>\n      <td>NaN</td>\n      <td>NaN</td>\n      <td>NaN</td>\n      <td>...</td>\n      <td>NaN</td>\n      <td>NaN</td>\n      <td>NaN</td>\n      <td>NaN</td>\n      <td>NaN</td>\n      <td>NaN</td>\n      <td>NaN</td>\n      <td>NaN</td>\n      <td>NaN</td>\n      <td>NaN</td>\n    </tr>\n    <tr>\n      <th>mean</th>\n      <td>44.508887</td>\n      <td>NaN</td>\n      <td>NaN</td>\n      <td>0.011851</td>\n      <td>0.002670</td>\n      <td>0.000147</td>\n      <td>0.001519</td>\n      <td>0.000393</td>\n      <td>0.001034</td>\n      <td>0.000068</td>\n      <td>...</td>\n      <td>0.025684</td>\n      <td>0.617342</td>\n      <td>0.149970</td>\n      <td>0.981905</td>\n      <td>0.000179</td>\n      <td>0.002192</td>\n      <td>0.000511</td>\n      <td>0.002704</td>\n      <td>0.007061</td>\n      <td>0.007548</td>\n    </tr>\n    <tr>\n      <th>std</th>\n      <td>24.703146</td>\n      <td>NaN</td>\n      <td>NaN</td>\n      <td>0.032441</td>\n      <td>0.006041</td>\n      <td>0.000675</td>\n      <td>0.007648</td>\n      <td>0.004093</td>\n      <td>0.002580</td>\n      <td>0.000934</td>\n      <td>...</td>\n      <td>0.028276</td>\n      <td>0.183309</td>\n      <td>0.038452</td>\n      <td>0.082103</td>\n      <td>0.001511</td>\n      <td>0.008483</td>\n      <td>0.002817</td>\n      <td>0.039785</td>\n      <td>0.022127</td>\n      <td>0.086551</td>\n    </tr>\n    <tr>\n      <th>min</th>\n      <td>1.000000</td>\n      <td>NaN</td>\n      <td>NaN</td>\n      <td>0.000017</td>\n      <td>0.000012</td>\n      <td>0.000000</td>\n      <td>0.000000</td>\n      <td>0.000000</td>\n      <td>0.000000</td>\n      <td>0.000000</td>\n      <td>...</td>\n      <td>0.000000</td>\n      <td>0.030488</td>\n      <td>0.016053</td>\n      <td>0.084707</td>\n      <td>0.000000</td>\n      <td>0.000000</td>\n      <td>0.000000</td>\n      <td>-0.071535</td>\n      <td>0.000000</td>\n      <td>0.000000</td>\n    </tr>\n    <tr>\n      <th>25%</th>\n      <td>23.000000</td>\n      <td>NaN</td>\n      <td>NaN</td>\n      <td>0.001807</td>\n      <td>0.000463</td>\n      <td>0.000000</td>\n      <td>0.000000</td>\n      <td>0.000000</td>\n      <td>0.000000</td>\n      <td>0.000000</td>\n      <td>...</td>\n      <td>0.008715</td>\n      <td>0.483244</td>\n      <td>0.126667</td>\n      <td>1.000000</td>\n      <td>0.000000</td>\n      <td>0.000000</td>\n      <td>0.000000</td>\n      <td>0.000000</td>\n      <td>0.000000</td>\n      <td>0.000000</td>\n    </tr>\n    <tr>\n      <th>50%</th>\n      <td>44.000000</td>\n      <td>NaN</td>\n      <td>NaN</td>\n      <td>0.004597</td>\n      <td>0.001113</td>\n      <td>0.000000</td>\n      <td>0.000000</td>\n      <td>0.000000</td>\n      <td>0.000134</td>\n      <td>0.000000</td>\n      <td>...</td>\n      <td>0.018736</td>\n      <td>0.588916</td>\n      <td>0.144433</td>\n      <td>1.000000</td>\n      <td>0.000000</td>\n      <td>0.000000</td>\n      <td>0.000000</td>\n      <td>0.000000</td>\n      <td>0.000000</td>\n      <td>0.000000</td>\n    </tr>\n    <tr>\n      <th>75%</th>\n      <td>59.000000</td>\n      <td>NaN</td>\n      <td>NaN</td>\n      <td>0.011041</td>\n      <td>0.002636</td>\n      <td>0.000080</td>\n      <td>0.001024</td>\n      <td>0.000000</td>\n      <td>0.001118</td>\n      <td>0.000000</td>\n      <td>...</td>\n      <td>0.032696</td>\n      <td>0.725551</td>\n      <td>0.167044</td>\n      <td>1.000000</td>\n      <td>0.000000</td>\n      <td>0.000000</td>\n      <td>0.000000</td>\n      <td>0.000000</td>\n      <td>0.000000</td>\n      <td>0.000000</td>\n    </tr>\n    <tr>\n      <th>max</th>\n      <td>95.000000</td>\n      <td>NaN</td>\n      <td>NaN</td>\n      <td>1.000000</td>\n      <td>0.214286</td>\n      <td>0.060897</td>\n      <td>0.975904</td>\n      <td>0.776669</td>\n      <td>0.111269</td>\n      <td>0.124267</td>\n      <td>...</td>\n      <td>0.336918</td>\n      <td>1.000000</td>\n      <td>0.721348</td>\n      <td>1.000000</td>\n      <td>0.139025</td>\n      <td>0.107765</td>\n      <td>0.100000</td>\n      <td>1.000000</td>\n      <td>0.153293</td>\n      <td>1.000000</td>\n    </tr>\n  </tbody>\n</table>\n<p>11 rows × 30 columns</p>\n</div>"
     },
     "execution_count": 4,
     "metadata": {},
     "output_type": "execute_result"
    }
   ],
   "source": [
    "dataset.describe(include=\"all\")"
   ],
   "metadata": {
    "collapsed": false,
    "pycharm": {
     "name": "#%%\n"
    }
   }
  },
  {
   "cell_type": "code",
   "execution_count": 5,
   "outputs": [
    {
     "data": {
      "text/plain": "0         False\n1         False\n2         False\n3         False\n4         False\n          ...  \n224821    False\n224822    False\n224823    False\n224824    False\n224825    False\nLength: 224826, dtype: bool"
     },
     "execution_count": 5,
     "metadata": {},
     "output_type": "execute_result"
    }
   ],
   "source": [
    "dataset.duplicated()"
   ],
   "metadata": {
    "collapsed": false,
    "pycharm": {
     "name": "#%%\n"
    }
   }
  },
  {
   "cell_type": "markdown",
   "source": [
    "### Data Cleaning"
   ],
   "metadata": {
    "collapsed": false,
    "pycharm": {
     "name": "#%% md\n"
    }
   }
  },
  {
   "cell_type": "markdown",
   "source": [
    "The dataset presents some duplicates in its rows that should be dropped. Also, the index and samples that have \".setup\" or \".teardown\" in the \"testCase\" string should be removed too."
   ],
   "metadata": {
    "collapsed": false,
    "pycharm": {
     "name": "#%% md\n"
    }
   }
  },
  {
   "cell_type": "code",
   "execution_count": 6,
   "outputs": [],
   "source": [
    "dataset_copy = dataset.copy()\n",
    "dataset_copy = dataset_copy[dataset_copy['testCase'].str.lower().str.contains('.setup|.teardown') == False]\n",
    "dataset_copy = dataset_copy.drop_duplicates()\n",
    "dataset_copy = dataset_copy.reset_index()\n",
    "dataset_copy = dataset_copy.drop(['idProject','index'],axis=1)"
   ],
   "metadata": {
    "collapsed": false,
    "pycharm": {
     "name": "#%%\n"
    }
   }
  },
  {
   "cell_type": "markdown",
   "source": [
    "### DataSet Partitioning\n",
    "Before manipulating the dataset, it will be divided into train-set(80%) and test-set(20%). The train-set will be used to identify a predictive model, while the test-set will be used to test the machine-learning algorithm. For the dataset partitioning, a stratified sampling is adopted to have the same test flaky proportions (False, True) between the test dataset and the training dataset"
   ],
   "metadata": {
    "collapsed": false,
    "pycharm": {
     "name": "#%% md\n"
    }
   }
  },
  {
   "cell_type": "code",
   "execution_count": 7,
   "outputs": [
    {
     "name": "stdout",
     "output_type": "stream",
     "text": [
      "Dimensione Train-set  163890\n",
      "Dimensione Test-set  40973\n"
     ]
    }
   ],
   "source": [
    "from sklearn.model_selection import StratifiedShuffleSplit\n",
    "split=StratifiedShuffleSplit(n_splits=1,test_size=0.2,random_state=42)\n",
    "for train_index_stratified,test_index_stratified in split.split(dataset_copy,dataset_copy['isFlaky']):\n",
    "    train_set=dataset_copy.loc[train_index_stratified]\n",
    "    test_set=dataset_copy.loc[test_index_stratified]\n",
    "\n",
    "print(\"Dimensione Train-set \",len(train_set))\n",
    "print(\"Dimensione Test-set \",len(test_set))"
   ],
   "metadata": {
    "collapsed": false,
    "pycharm": {
     "name": "#%%\n"
    }
   }
  },
  {
   "cell_type": "markdown",
   "source": [
    "## Feature Selection and Dataset balancing"
   ],
   "metadata": {
    "collapsed": false,
    "pycharm": {
     "name": "#%% md\n"
    }
   }
  },
  {
   "cell_type": "markdown",
   "source": [
    "To optimize the set of feature for the dataset, a feature selection step must be applied. The feature scaling phase will be avoided because the dataset is already normalized. But the dataset is unbalanced, so we need to perform additional operations to balance it."
   ],
   "metadata": {
    "collapsed": false,
    "pycharm": {
     "name": "#%% md\n"
    }
   }
  },
  {
   "cell_type": "code",
   "execution_count": null,
   "outputs": [],
   "source": [
    "from sklearn.ensemble import RandomForestClassifier\n",
    "from matplotlib import pyplot as plt\n",
    "import numpy as np\n",
    "\n",
    "\n",
    "def get_object_colum(dataset):\n",
    "    drop_col = []\n",
    "    for col in dataset.columns:\n",
    "        if dataset[col].dtypes == 'object':\n",
    "            drop_col.append(col)\n",
    "    return drop_col\n",
    "train_set_copy = train_set.copy()\n",
    "train_set_copy = train_set_copy.drop(get_object_colum(train_set_copy), axis=1)\n",
    "X_train_set = train_set_copy.drop(['isFlaky'], axis=1)\n",
    "y_train_set = train_set_copy['isFlaky']\n",
    "columns=X_train_set.columns\n",
    "X_train_set = X_train_set.to_numpy()\n",
    "y_train_set = y_train_set.to_numpy()\n",
    "\n",
    "df=pandas.DataFrame(X_train_set,columns=columns)\n",
    "rf_fs=RandomForestClassifier(n_estimators=len(X_train_set),random_state=0,n_jobs=-1)\n",
    "rf_fs.fit(X=X_train_set,y=y_train_set)\n",
    "importance=rf_fs.feature_importances_\n",
    "indices=np.argsort(importance)[::-1]\n",
    "colum_remove=[]\n",
    "for f in range (X_train_set.shape[1]):\n",
    "    if importance[indices[f]] < 0.02:\n",
    "        colum_remove.append(columns[indices[f]])\n",
    "df=df.drop(colum_remove,axis=1)\n",
    "X_train_set=df.to_numpy()\n",
    "\n",
    "\n",
    "ds = pandas.DataFrame(X_train_set)\n",
    "plt.title('Dataset non bilanciato')\n",
    "plt.xlabel('x')\n",
    "plt.ylabel('y')\n",
    "plt.scatter(ds.iloc[:, 0],ds.iloc[:, 1], marker='o', c=y_train_set,\n",
    "        s=25, edgecolor='k', cmap=plt.cm.coolwarm)\n",
    "plt.show()"
   ],
   "metadata": {
    "collapsed": false,
    "pycharm": {
     "name": "#%%\n"
    }
   }
  },
  {
   "cell_type": "code",
   "execution_count": null,
   "outputs": [],
   "source": [
    "from imblearn.over_sampling import SMOTE\n",
    "\n",
    "sm = SMOTE(sampling_strategy='auto', k_neighbors=3, random_state=42)\n",
    "X_train_set, y_train_set = sm.fit_resample(X_train_set, y_train_set)\n",
    "\n",
    "ds = pandas.DataFrame(X_train_set)\n",
    "plt.title('Dataset non bilanciato')\n",
    "plt.xlabel('x')\n",
    "plt.ylabel('y')\n",
    "plt.scatter(ds.iloc[:, 0], ds.iloc[:, 1], marker='o', c=y_train_set,s=25, edgecolor='k', cmap=plt.cm.coolwarm)\n",
    "plt.show()"
   ],
   "metadata": {
    "collapsed": false,
    "pycharm": {
     "name": "#%%\n"
    }
   }
  }
 ],
 "metadata": {
  "kernelspec": {
   "display_name": "Python 3",
   "language": "python",
   "name": "python3"
  },
  "language_info": {
   "codemirror_mode": {
    "name": "ipython",
    "version": 2
   },
   "file_extension": ".py",
   "mimetype": "text/x-python",
   "name": "python",
   "nbconvert_exporter": "python",
   "pygments_lexer": "ipython2",
   "version": "2.7.6"
  }
 },
 "nbformat": 4,
 "nbformat_minor": 0
}