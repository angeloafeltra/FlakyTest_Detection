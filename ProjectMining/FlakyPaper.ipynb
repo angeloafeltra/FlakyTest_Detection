{
 "cells": [
  {
   "cell_type": "markdown",
   "source": [
    "# FlakyPaper"
   ],
   "metadata": {
    "collapsed": false,
    "pycharm": {
     "name": "#%% md\n"
    }
   }
  },
  {
   "cell_type": "markdown",
   "source": [
    "## Data Understanding"
   ],
   "metadata": {
    "collapsed": false,
    "pycharm": {
     "name": "#%% md\n"
    }
   }
  },
  {
   "cell_type": "code",
   "execution_count": 96,
   "outputs": [
    {
     "data": {
      "text/plain": "                         Project URL  \\\n0  https://github.com/abel533/Mapper   \n1  https://github.com/abel533/Mapper   \n2  https://github.com/abel533/Mapper   \n3  https://github.com/abel533/Mapper   \n4  https://github.com/abel533/Mapper   \n\n                               SHA Detected Module Path  \\\n0  1764748eedb2f320a0d1c43cb4f928c4ccb1f2f5        core   \n1  1764748eedb2f320a0d1c43cb4f928c4ccb1f2f5        core   \n2  3c0b3307011fad53f811e08d05147d94fc6c0d67        base   \n3  3c0b3307011fad53f811e08d05147d94fc6c0d67        base   \n4  3c0b3307011fad53f811e08d05147d94fc6c0d67        base   \n\n  Fully-Qualified Test Name (packageName.ClassName.methodName) Category  \\\n0  tk.mybatis.mapper.mapperhelper.FieldHelperTest...                 ID   \n1  tk.mybatis.mapper.mapperhelper.SqlHelperTest.t...                 ID   \n2  tk.mybatis.mapper.test.able.TestBasicAble.test...                 OD   \n3  tk.mybatis.mapper.test.country.TestDeleteByPri...                 OD   \n4  tk.mybatis.mapper.test.country.TestDeleteByPri...                 OD   \n\n   Status                                     PR Link  Days to Address PR  \\\n0  Opened  https://github.com/abel533/Mapper/pull/666                 NaN   \n1  Opened  https://github.com/abel533/Mapper/pull/666                 NaN   \n2     NaN                                         NaN                 NaN   \n3  Opened  https://github.com/abel533/Mapper/pull/838                 NaN   \n4  Opened  https://github.com/abel533/Mapper/pull/838                 NaN   \n\n                                               Notes  \n0                                                NaN  \n1                                                NaN  \n2  https://github.com/TestingResearchIllinois/ido...  \n3  https://github.com/TestingResearchIllinois/ido...  \n4  https://github.com/TestingResearchIllinois/ido...  ",
      "text/html": "<div>\n<style scoped>\n    .dataframe tbody tr th:only-of-type {\n        vertical-align: middle;\n    }\n\n    .dataframe tbody tr th {\n        vertical-align: top;\n    }\n\n    .dataframe thead th {\n        text-align: right;\n    }\n</style>\n<table border=\"1\" class=\"dataframe\">\n  <thead>\n    <tr style=\"text-align: right;\">\n      <th></th>\n      <th>Project URL</th>\n      <th>SHA Detected</th>\n      <th>Module Path</th>\n      <th>Fully-Qualified Test Name (packageName.ClassName.methodName)</th>\n      <th>Category</th>\n      <th>Status</th>\n      <th>PR Link</th>\n      <th>Days to Address PR</th>\n      <th>Notes</th>\n    </tr>\n  </thead>\n  <tbody>\n    <tr>\n      <th>0</th>\n      <td>https://github.com/abel533/Mapper</td>\n      <td>1764748eedb2f320a0d1c43cb4f928c4ccb1f2f5</td>\n      <td>core</td>\n      <td>tk.mybatis.mapper.mapperhelper.FieldHelperTest...</td>\n      <td>ID</td>\n      <td>Opened</td>\n      <td>https://github.com/abel533/Mapper/pull/666</td>\n      <td>NaN</td>\n      <td>NaN</td>\n    </tr>\n    <tr>\n      <th>1</th>\n      <td>https://github.com/abel533/Mapper</td>\n      <td>1764748eedb2f320a0d1c43cb4f928c4ccb1f2f5</td>\n      <td>core</td>\n      <td>tk.mybatis.mapper.mapperhelper.SqlHelperTest.t...</td>\n      <td>ID</td>\n      <td>Opened</td>\n      <td>https://github.com/abel533/Mapper/pull/666</td>\n      <td>NaN</td>\n      <td>NaN</td>\n    </tr>\n    <tr>\n      <th>2</th>\n      <td>https://github.com/abel533/Mapper</td>\n      <td>3c0b3307011fad53f811e08d05147d94fc6c0d67</td>\n      <td>base</td>\n      <td>tk.mybatis.mapper.test.able.TestBasicAble.test...</td>\n      <td>OD</td>\n      <td>NaN</td>\n      <td>NaN</td>\n      <td>NaN</td>\n      <td>https://github.com/TestingResearchIllinois/ido...</td>\n    </tr>\n    <tr>\n      <th>3</th>\n      <td>https://github.com/abel533/Mapper</td>\n      <td>3c0b3307011fad53f811e08d05147d94fc6c0d67</td>\n      <td>base</td>\n      <td>tk.mybatis.mapper.test.country.TestDeleteByPri...</td>\n      <td>OD</td>\n      <td>Opened</td>\n      <td>https://github.com/abel533/Mapper/pull/838</td>\n      <td>NaN</td>\n      <td>https://github.com/TestingResearchIllinois/ido...</td>\n    </tr>\n    <tr>\n      <th>4</th>\n      <td>https://github.com/abel533/Mapper</td>\n      <td>3c0b3307011fad53f811e08d05147d94fc6c0d67</td>\n      <td>base</td>\n      <td>tk.mybatis.mapper.test.country.TestDeleteByPri...</td>\n      <td>OD</td>\n      <td>Opened</td>\n      <td>https://github.com/abel533/Mapper/pull/838</td>\n      <td>NaN</td>\n      <td>https://github.com/TestingResearchIllinois/ido...</td>\n    </tr>\n  </tbody>\n</table>\n</div>"
     },
     "execution_count": 96,
     "metadata": {},
     "output_type": "execute_result"
    }
   ],
   "source": [
    "import pandas\n",
    "import os\n",
    "\n",
    "DATASET_NAME = \"Flaky Tests_All Projects_Tabella.csv\"\n",
    "\n",
    "def loading_data_set(dataset_name):\n",
    "    current_directory = os.getcwd()\n",
    "    csv_path = os.path.join(current_directory,dataset_name)\n",
    "    return pandas.read_csv(csv_path)\n",
    "\n",
    "dataset = loading_data_set(DATASET_NAME)\n",
    "dataset.head()"
   ],
   "metadata": {
    "collapsed": false,
    "pycharm": {
     "name": "#%%\n"
    }
   }
  },
  {
   "cell_type": "code",
   "execution_count": 97,
   "outputs": [
    {
     "name": "stdout",
     "output_type": "stream",
     "text": [
      "<class 'pandas.core.frame.DataFrame'>\n",
      "RangeIndex: 3756 entries, 0 to 3755\n",
      "Data columns (total 9 columns):\n",
      " #   Column                                                        Non-Null Count  Dtype  \n",
      "---  ------                                                        --------------  -----  \n",
      " 0   Project URL                                                   3756 non-null   object \n",
      " 1   SHA Detected                                                  3756 non-null   object \n",
      " 2   Module Path                                                   3755 non-null   object \n",
      " 3   Fully-Qualified Test Name (packageName.ClassName.methodName)  3756 non-null   object \n",
      " 4   Category                                                      3756 non-null   object \n",
      " 5   Status                                                        1686 non-null   object \n",
      " 6   PR Link                                                       1322 non-null   object \n",
      " 7   Days to Address PR                                            837 non-null    float64\n",
      " 8   Notes                                                         580 non-null    object \n",
      "dtypes: float64(1), object(8)\n",
      "memory usage: 264.2+ KB\n"
     ]
    }
   ],
   "source": [
    "dataset.info()"
   ],
   "metadata": {
    "collapsed": false,
    "pycharm": {
     "name": "#%%\n"
    }
   }
  },
  {
   "cell_type": "markdown",
   "source": [
    "\n",
    "| Feature                   | Descrizione                                                                                                                                                                                                                                                                                                                                                                                                                                                                                                                                                                                                                                                                                                                                                   |\n",
    "|---------------------------|---------------------------------------------------------------------------------------------------------------------------------------------------------------------------------------------------------------------------------------------------------------------------------------------------------------------------------------------------------------------------------------------------------------------------------------------------------------------------------------------------------------------------------------------------------------------------------------------------------------------------------------------------------------------------------------------------------------------------------------------------------------|\n",
    "| Project URL               | The GitHub project where the flaky test was found                                                                                                                                                                                                                                                                                                                                                                                                                                                                                                                                                                                                                                                                                                             |\n",
    "| SHA Detected              | The commit SHA for the project where the flaky test was detected. This may or may not be the latest SHA                                                                                                                                                                                                                                                                                                                                                                                                                                                                                                                                                                                                                                                       |\n",
    "| Module Path               | The path of the module within the project that contains the flaky test                                                                                                                                                                                                                                                                                                                                                                                                                                                                                                                                                                                                                                                                                        |\n",
    "| Fully-Qualified Test Name | The fully-qualified test name of the flaky test in the format of packageName.ClassName.methodName                                                                                                                                                                                                                                                                                                                                                                                                                                                                                                                                                                                                                                                             |\n",
    "| Category                  | The category of the detected flaky test. For example: OD: Order-Dependent flaky tests as defined in iDFlakies; OD-Brit: Order-Dependent Brittle tests as defined in iFixFlakies; OD-Vic: Order-Dependent Victim tests as defined in iFixFlakies; ID: Implementation-Dependent Tests found by NonDex; NOD: Non-Deterministic tests; NDOD: Non-Deterministic Order-Dependent tests that fail non-deterministically but with significantly different failure rates in different orders as defined in our ISSRE'20 work; NDOI: Non-Deterministic Order-Independent tests that fail non-deterministically but similar failure rates in all orders as defined in our ISSRE'20 work; UD: Unknown Dependency tests that pass and fail in a test suite or in isolation |\n",
    "| Status                    | State the flaky test is in. Possible statuses are: Opened: For tests where a PR was opened to fix the flaky test; Accepted: For tests where a PR was accepted to fix the flaky test; InspiredAFix: The work (e.g., issue report, pull request) inspired a fix from the developer, but did not directly change any code.                                                                                                                                                                                                                                                                                                                                                                                                                                       |\n",
    "| PR Link                   | Link to the pull request in the repository of the Project URL to fix a given flaky test                                                                                                                                                                                                                                                                                                                                                                                                                                                                                                                                                                                                                                                                       |\n",
    "| Days to Address PR        | The number of days from the day the PR was opened to the day it was accepted                                                                                                                                                                                                                                                                                                                                                                                                                                                                                                                                                                                                                                                                       |\n",
    "| Notes                     | Any additional information that one may need to debug the test such as steps to reproduce, any relevant logs, or any relevant information about this test                                                                                                                                                                                                                                                                                                                                                                                                                                                                                                                                                                                                                                                                       |"
   ],
   "metadata": {
    "collapsed": false,
    "pycharm": {
     "name": "#%% md\n"
    }
   }
  },
  {
   "cell_type": "code",
   "execution_count": 98,
   "outputs": [
    {
     "data": {
      "text/plain": "                           Project URL  \\\ncount                             3756   \nunique                             322   \ntop     https://github.com/apache/nifi   \nfreq                               179   \nmean                               NaN   \nstd                                NaN   \nmin                                NaN   \n25%                                NaN   \n50%                                NaN   \n75%                                NaN   \nmax                                NaN   \n\n                                    SHA Detected Module Path  \\\ncount                                       3756        3755   \nunique                                       398         415   \ntop     737f7a7ea67832d7f17517326fb2491d0a086dd7           .   \nfreq                                         145         924   \nmean                                         NaN         NaN   \nstd                                          NaN         NaN   \nmin                                          NaN         NaN   \n25%                                          NaN         NaN   \n50%                                          NaN         NaN   \n75%                                          NaN         NaN   \nmax                                          NaN         NaN   \n\n       Fully-Qualified Test Name (packageName.ClassName.methodName) Category  \\\ncount                                                3756               3756   \nunique                                               3742                 30   \ntop     com.j256.ormlite.support.DatabaseConnectionPro...                 ID   \nfreq                                                    2               2064   \nmean                                                  NaN                NaN   \nstd                                                   NaN                NaN   \nmin                                                   NaN                NaN   \n25%                                                   NaN                NaN   \n50%                                                   NaN                NaN   \n75%                                                   NaN                NaN   \nmax                                                   NaN                NaN   \n\n          Status                                            PR Link  \\\ncount       1686                                               1322   \nunique        10                                                417   \ntop     Accepted  https://github.com/pholser/junit-quickcheck/pu...   \nfreq         832                                                 72   \nmean         NaN                                                NaN   \nstd          NaN                                                NaN   \nmin          NaN                                                NaN   \n25%          NaN                                                NaN   \n50%          NaN                                                NaN   \n75%          NaN                                                NaN   \nmax          NaN                                                NaN   \n\n        Days to Address PR                                              Notes  \ncount           837.000000                                                580  \nunique                 NaN                                                107  \ntop                    NaN  https://github.com/TestingResearchIllinois/ido...  \nfreq                   NaN                                                 70  \nmean             20.487455                                                NaN  \nstd              62.311967                                                NaN  \nmin               0.000000                                                NaN  \n25%               0.000000                                                NaN  \n50%               2.000000                                                NaN  \n75%              12.000000                                                NaN  \nmax             572.000000                                                NaN  ",
      "text/html": "<div>\n<style scoped>\n    .dataframe tbody tr th:only-of-type {\n        vertical-align: middle;\n    }\n\n    .dataframe tbody tr th {\n        vertical-align: top;\n    }\n\n    .dataframe thead th {\n        text-align: right;\n    }\n</style>\n<table border=\"1\" class=\"dataframe\">\n  <thead>\n    <tr style=\"text-align: right;\">\n      <th></th>\n      <th>Project URL</th>\n      <th>SHA Detected</th>\n      <th>Module Path</th>\n      <th>Fully-Qualified Test Name (packageName.ClassName.methodName)</th>\n      <th>Category</th>\n      <th>Status</th>\n      <th>PR Link</th>\n      <th>Days to Address PR</th>\n      <th>Notes</th>\n    </tr>\n  </thead>\n  <tbody>\n    <tr>\n      <th>count</th>\n      <td>3756</td>\n      <td>3756</td>\n      <td>3755</td>\n      <td>3756</td>\n      <td>3756</td>\n      <td>1686</td>\n      <td>1322</td>\n      <td>837.000000</td>\n      <td>580</td>\n    </tr>\n    <tr>\n      <th>unique</th>\n      <td>322</td>\n      <td>398</td>\n      <td>415</td>\n      <td>3742</td>\n      <td>30</td>\n      <td>10</td>\n      <td>417</td>\n      <td>NaN</td>\n      <td>107</td>\n    </tr>\n    <tr>\n      <th>top</th>\n      <td>https://github.com/apache/nifi</td>\n      <td>737f7a7ea67832d7f17517326fb2491d0a086dd7</td>\n      <td>.</td>\n      <td>com.j256.ormlite.support.DatabaseConnectionPro...</td>\n      <td>ID</td>\n      <td>Accepted</td>\n      <td>https://github.com/pholser/junit-quickcheck/pu...</td>\n      <td>NaN</td>\n      <td>https://github.com/TestingResearchIllinois/ido...</td>\n    </tr>\n    <tr>\n      <th>freq</th>\n      <td>179</td>\n      <td>145</td>\n      <td>924</td>\n      <td>2</td>\n      <td>2064</td>\n      <td>832</td>\n      <td>72</td>\n      <td>NaN</td>\n      <td>70</td>\n    </tr>\n    <tr>\n      <th>mean</th>\n      <td>NaN</td>\n      <td>NaN</td>\n      <td>NaN</td>\n      <td>NaN</td>\n      <td>NaN</td>\n      <td>NaN</td>\n      <td>NaN</td>\n      <td>20.487455</td>\n      <td>NaN</td>\n    </tr>\n    <tr>\n      <th>std</th>\n      <td>NaN</td>\n      <td>NaN</td>\n      <td>NaN</td>\n      <td>NaN</td>\n      <td>NaN</td>\n      <td>NaN</td>\n      <td>NaN</td>\n      <td>62.311967</td>\n      <td>NaN</td>\n    </tr>\n    <tr>\n      <th>min</th>\n      <td>NaN</td>\n      <td>NaN</td>\n      <td>NaN</td>\n      <td>NaN</td>\n      <td>NaN</td>\n      <td>NaN</td>\n      <td>NaN</td>\n      <td>0.000000</td>\n      <td>NaN</td>\n    </tr>\n    <tr>\n      <th>25%</th>\n      <td>NaN</td>\n      <td>NaN</td>\n      <td>NaN</td>\n      <td>NaN</td>\n      <td>NaN</td>\n      <td>NaN</td>\n      <td>NaN</td>\n      <td>0.000000</td>\n      <td>NaN</td>\n    </tr>\n    <tr>\n      <th>50%</th>\n      <td>NaN</td>\n      <td>NaN</td>\n      <td>NaN</td>\n      <td>NaN</td>\n      <td>NaN</td>\n      <td>NaN</td>\n      <td>NaN</td>\n      <td>2.000000</td>\n      <td>NaN</td>\n    </tr>\n    <tr>\n      <th>75%</th>\n      <td>NaN</td>\n      <td>NaN</td>\n      <td>NaN</td>\n      <td>NaN</td>\n      <td>NaN</td>\n      <td>NaN</td>\n      <td>NaN</td>\n      <td>12.000000</td>\n      <td>NaN</td>\n    </tr>\n    <tr>\n      <th>max</th>\n      <td>NaN</td>\n      <td>NaN</td>\n      <td>NaN</td>\n      <td>NaN</td>\n      <td>NaN</td>\n      <td>NaN</td>\n      <td>NaN</td>\n      <td>572.000000</td>\n      <td>NaN</td>\n    </tr>\n  </tbody>\n</table>\n</div>"
     },
     "execution_count": 98,
     "metadata": {},
     "output_type": "execute_result"
    }
   ],
   "source": [
    "dataset.describe(include=\"all\")"
   ],
   "metadata": {
    "collapsed": false,
    "pycharm": {
     "name": "#%%\n"
    }
   }
  },
  {
   "cell_type": "code",
   "execution_count": 99,
   "outputs": [
    {
     "data": {
      "text/plain": "0       False\n1       False\n2       False\n3       False\n4       False\n        ...  \n3751    False\n3752    False\n3753    False\n3754    False\n3755    False\nLength: 3756, dtype: bool"
     },
     "execution_count": 99,
     "metadata": {},
     "output_type": "execute_result"
    }
   ],
   "source": [
    "dataset.duplicated()"
   ],
   "metadata": {
    "collapsed": false,
    "pycharm": {
     "name": "#%%\n"
    }
   }
  },
  {
   "cell_type": "markdown",
   "source": [
    "## Data Cleaning"
   ],
   "metadata": {
    "collapsed": false,
    "pycharm": {
     "name": "#%% md\n"
    }
   }
  },
  {
   "cell_type": "markdown",
   "source": [
    "There are some empty cells we have to afford. The \"Module Path\" column has a single NaN value, making this an isolated issue, so we can just delete the correspondent row. The last four colums can be deleted because they don't represent any important information. Fortunately there are no duplicated rows."
   ],
   "metadata": {
    "collapsed": false,
    "pycharm": {
     "name": "#%% md\n"
    }
   }
  },
  {
   "cell_type": "code",
   "execution_count": 100,
   "outputs": [
    {
     "data": {
      "text/plain": "                          Project URL  \\\n2665  https://github.com/phax/as2-lib   \n\n                                  SHA Detected Module Path  \\\n2665  a5b4ba5d5b110e649770609e803338763bec8c39         NaN   \n\n     Fully-Qualified Test Name (packageName.ClassName.methodName) Category  \\\n2665    MongoDBPartnershipFactorySpec.add a Partnership                 UD   \n\n     Status PR Link  Days to Address PR  \\\n2665    NaN     NaN                 NaN   \n\n                                                  Notes  \n2665  https://github.com/TestingResearchIllinois/fla...  ",
      "text/html": "<div>\n<style scoped>\n    .dataframe tbody tr th:only-of-type {\n        vertical-align: middle;\n    }\n\n    .dataframe tbody tr th {\n        vertical-align: top;\n    }\n\n    .dataframe thead th {\n        text-align: right;\n    }\n</style>\n<table border=\"1\" class=\"dataframe\">\n  <thead>\n    <tr style=\"text-align: right;\">\n      <th></th>\n      <th>Project URL</th>\n      <th>SHA Detected</th>\n      <th>Module Path</th>\n      <th>Fully-Qualified Test Name (packageName.ClassName.methodName)</th>\n      <th>Category</th>\n      <th>Status</th>\n      <th>PR Link</th>\n      <th>Days to Address PR</th>\n      <th>Notes</th>\n    </tr>\n  </thead>\n  <tbody>\n    <tr>\n      <th>2665</th>\n      <td>https://github.com/phax/as2-lib</td>\n      <td>a5b4ba5d5b110e649770609e803338763bec8c39</td>\n      <td>NaN</td>\n      <td>MongoDBPartnershipFactorySpec.add a Partnership</td>\n      <td>UD</td>\n      <td>NaN</td>\n      <td>NaN</td>\n      <td>NaN</td>\n      <td>https://github.com/TestingResearchIllinois/fla...</td>\n    </tr>\n  </tbody>\n</table>\n</div>"
     },
     "execution_count": 100,
     "metadata": {},
     "output_type": "execute_result"
    }
   ],
   "source": [
    "#position of the NaN value in terms of rows that contain NaN at the Module Path column\n",
    "dataset.loc[pandas.isna(dataset[\"Module Path\"]),:]"
   ],
   "metadata": {
    "collapsed": false,
    "pycharm": {
     "name": "#%%\n"
    }
   }
  },
  {
   "cell_type": "code",
   "execution_count": 101,
   "outputs": [
    {
     "data": {
      "text/plain": "                            Project URL  \\\n0     https://github.com/abel533/Mapper   \n1     https://github.com/abel533/Mapper   \n2     https://github.com/abel533/Mapper   \n3     https://github.com/abel533/Mapper   \n4     https://github.com/abel533/Mapper   \n...                                 ...   \n3751  https://github.com/abel533/Mapper   \n3752  https://github.com/abel533/Mapper   \n3753  https://github.com/abel533/Mapper   \n3754  https://github.com/abel533/Mapper   \n3755  https://github.com/abel533/Mapper   \n\n                                  SHA Detected Module Path  \\\n0     1764748eedb2f320a0d1c43cb4f928c4ccb1f2f5        core   \n1     1764748eedb2f320a0d1c43cb4f928c4ccb1f2f5        core   \n2     3c0b3307011fad53f811e08d05147d94fc6c0d67        base   \n3     3c0b3307011fad53f811e08d05147d94fc6c0d67        base   \n4     3c0b3307011fad53f811e08d05147d94fc6c0d67        base   \n...                                        ...         ...   \n3751  3c0b3307011fad53f811e08d05147d94fc6c0d67        base   \n3752  3c0b3307011fad53f811e08d05147d94fc6c0d67        base   \n3753  1764748eedb2f320a0d1c43cb4f928c4ccb1f2f5        core   \n3754  1764748eedb2f320a0d1c43cb4f928c4ccb1f2f5        core   \n3755  1764748eedb2f320a0d1c43cb4f928c4ccb1f2f5        core   \n\n     Fully-Qualified Test Name (packageName.ClassName.methodName) Category  \\\n0     tk.mybatis.mapper.mapperhelper.FieldHelperTest...                 ID   \n1     tk.mybatis.mapper.mapperhelper.SqlHelperTest.t...                 ID   \n2     tk.mybatis.mapper.test.able.TestBasicAble.test...                 OD   \n3     tk.mybatis.mapper.test.country.TestDeleteByPri...                 OD   \n4     tk.mybatis.mapper.test.country.TestDeleteByPri...                 OD   \n...                                                 ...                ...   \n3751  tk.mybatis.mapper.test.country.TestSelect.test...                 OD   \n3752  tk.mybatis.mapper.test.country.TestDeleteByPri...                 OD   \n3753  tk.mybatis.mapper.mapperhelper.FieldHelperTest...                 ID   \n3754  tk.mybatis.mapper.mapperhelper.ComplexEntityTe...                 ID   \n3755  tk.mybatis.mapper.annotation.IdTest.testCompos...                 ID   \n\n      Status                                     PR Link  Days to Address PR  \\\n0     Opened  https://github.com/abel533/Mapper/pull/666                 NaN   \n1     Opened  https://github.com/abel533/Mapper/pull/666                 NaN   \n2        NaN                                         NaN                 NaN   \n3     Opened  https://github.com/abel533/Mapper/pull/838                 NaN   \n4     Opened  https://github.com/abel533/Mapper/pull/838                 NaN   \n...      ...                                         ...                 ...   \n3751     NaN                                         NaN                 NaN   \n3752  Opened  https://github.com/abel533/Mapper/pull/838                 NaN   \n3753  Opened  https://github.com/abel533/Mapper/pull/666                 NaN   \n3754  Opened  https://github.com/abel533/Mapper/pull/666                 NaN   \n3755  Opened  https://github.com/abel533/Mapper/pull/666                 NaN   \n\n                                                  Notes  \n0                                                   NaN  \n1                                                   NaN  \n2     https://github.com/TestingResearchIllinois/ido...  \n3     https://github.com/TestingResearchIllinois/ido...  \n4     https://github.com/TestingResearchIllinois/ido...  \n...                                                 ...  \n3751  https://github.com/TestingResearchIllinois/ido...  \n3752  https://github.com/TestingResearchIllinois/ido...  \n3753                                                NaN  \n3754                                                NaN  \n3755                                                NaN  \n\n[3755 rows x 9 columns]",
      "text/html": "<div>\n<style scoped>\n    .dataframe tbody tr th:only-of-type {\n        vertical-align: middle;\n    }\n\n    .dataframe tbody tr th {\n        vertical-align: top;\n    }\n\n    .dataframe thead th {\n        text-align: right;\n    }\n</style>\n<table border=\"1\" class=\"dataframe\">\n  <thead>\n    <tr style=\"text-align: right;\">\n      <th></th>\n      <th>Project URL</th>\n      <th>SHA Detected</th>\n      <th>Module Path</th>\n      <th>Fully-Qualified Test Name (packageName.ClassName.methodName)</th>\n      <th>Category</th>\n      <th>Status</th>\n      <th>PR Link</th>\n      <th>Days to Address PR</th>\n      <th>Notes</th>\n    </tr>\n  </thead>\n  <tbody>\n    <tr>\n      <th>0</th>\n      <td>https://github.com/abel533/Mapper</td>\n      <td>1764748eedb2f320a0d1c43cb4f928c4ccb1f2f5</td>\n      <td>core</td>\n      <td>tk.mybatis.mapper.mapperhelper.FieldHelperTest...</td>\n      <td>ID</td>\n      <td>Opened</td>\n      <td>https://github.com/abel533/Mapper/pull/666</td>\n      <td>NaN</td>\n      <td>NaN</td>\n    </tr>\n    <tr>\n      <th>1</th>\n      <td>https://github.com/abel533/Mapper</td>\n      <td>1764748eedb2f320a0d1c43cb4f928c4ccb1f2f5</td>\n      <td>core</td>\n      <td>tk.mybatis.mapper.mapperhelper.SqlHelperTest.t...</td>\n      <td>ID</td>\n      <td>Opened</td>\n      <td>https://github.com/abel533/Mapper/pull/666</td>\n      <td>NaN</td>\n      <td>NaN</td>\n    </tr>\n    <tr>\n      <th>2</th>\n      <td>https://github.com/abel533/Mapper</td>\n      <td>3c0b3307011fad53f811e08d05147d94fc6c0d67</td>\n      <td>base</td>\n      <td>tk.mybatis.mapper.test.able.TestBasicAble.test...</td>\n      <td>OD</td>\n      <td>NaN</td>\n      <td>NaN</td>\n      <td>NaN</td>\n      <td>https://github.com/TestingResearchIllinois/ido...</td>\n    </tr>\n    <tr>\n      <th>3</th>\n      <td>https://github.com/abel533/Mapper</td>\n      <td>3c0b3307011fad53f811e08d05147d94fc6c0d67</td>\n      <td>base</td>\n      <td>tk.mybatis.mapper.test.country.TestDeleteByPri...</td>\n      <td>OD</td>\n      <td>Opened</td>\n      <td>https://github.com/abel533/Mapper/pull/838</td>\n      <td>NaN</td>\n      <td>https://github.com/TestingResearchIllinois/ido...</td>\n    </tr>\n    <tr>\n      <th>4</th>\n      <td>https://github.com/abel533/Mapper</td>\n      <td>3c0b3307011fad53f811e08d05147d94fc6c0d67</td>\n      <td>base</td>\n      <td>tk.mybatis.mapper.test.country.TestDeleteByPri...</td>\n      <td>OD</td>\n      <td>Opened</td>\n      <td>https://github.com/abel533/Mapper/pull/838</td>\n      <td>NaN</td>\n      <td>https://github.com/TestingResearchIllinois/ido...</td>\n    </tr>\n    <tr>\n      <th>...</th>\n      <td>...</td>\n      <td>...</td>\n      <td>...</td>\n      <td>...</td>\n      <td>...</td>\n      <td>...</td>\n      <td>...</td>\n      <td>...</td>\n      <td>...</td>\n    </tr>\n    <tr>\n      <th>3751</th>\n      <td>https://github.com/abel533/Mapper</td>\n      <td>3c0b3307011fad53f811e08d05147d94fc6c0d67</td>\n      <td>base</td>\n      <td>tk.mybatis.mapper.test.country.TestSelect.test...</td>\n      <td>OD</td>\n      <td>NaN</td>\n      <td>NaN</td>\n      <td>NaN</td>\n      <td>https://github.com/TestingResearchIllinois/ido...</td>\n    </tr>\n    <tr>\n      <th>3752</th>\n      <td>https://github.com/abel533/Mapper</td>\n      <td>3c0b3307011fad53f811e08d05147d94fc6c0d67</td>\n      <td>base</td>\n      <td>tk.mybatis.mapper.test.country.TestDeleteByPri...</td>\n      <td>OD</td>\n      <td>Opened</td>\n      <td>https://github.com/abel533/Mapper/pull/838</td>\n      <td>NaN</td>\n      <td>https://github.com/TestingResearchIllinois/ido...</td>\n    </tr>\n    <tr>\n      <th>3753</th>\n      <td>https://github.com/abel533/Mapper</td>\n      <td>1764748eedb2f320a0d1c43cb4f928c4ccb1f2f5</td>\n      <td>core</td>\n      <td>tk.mybatis.mapper.mapperhelper.FieldHelperTest...</td>\n      <td>ID</td>\n      <td>Opened</td>\n      <td>https://github.com/abel533/Mapper/pull/666</td>\n      <td>NaN</td>\n      <td>NaN</td>\n    </tr>\n    <tr>\n      <th>3754</th>\n      <td>https://github.com/abel533/Mapper</td>\n      <td>1764748eedb2f320a0d1c43cb4f928c4ccb1f2f5</td>\n      <td>core</td>\n      <td>tk.mybatis.mapper.mapperhelper.ComplexEntityTe...</td>\n      <td>ID</td>\n      <td>Opened</td>\n      <td>https://github.com/abel533/Mapper/pull/666</td>\n      <td>NaN</td>\n      <td>NaN</td>\n    </tr>\n    <tr>\n      <th>3755</th>\n      <td>https://github.com/abel533/Mapper</td>\n      <td>1764748eedb2f320a0d1c43cb4f928c4ccb1f2f5</td>\n      <td>core</td>\n      <td>tk.mybatis.mapper.annotation.IdTest.testCompos...</td>\n      <td>ID</td>\n      <td>Opened</td>\n      <td>https://github.com/abel533/Mapper/pull/666</td>\n      <td>NaN</td>\n      <td>NaN</td>\n    </tr>\n  </tbody>\n</table>\n<p>3755 rows × 9 columns</p>\n</div>"
     },
     "execution_count": 101,
     "metadata": {},
     "output_type": "execute_result"
    }
   ],
   "source": [
    "#overwriting the old dataset with a new one without the \"ModulePathNan\"-cell\n",
    "dataset.drop(index=2665,inplace=True)\n",
    "dataset"
   ],
   "metadata": {
    "collapsed": false,
    "pycharm": {
     "name": "#%%\n"
    }
   }
  },
  {
   "cell_type": "code",
   "execution_count": 104,
   "outputs": [
    {
     "data": {
      "text/plain": "                            Project URL  \\\n0     https://github.com/abel533/Mapper   \n1     https://github.com/abel533/Mapper   \n2     https://github.com/abel533/Mapper   \n3     https://github.com/abel533/Mapper   \n4     https://github.com/abel533/Mapper   \n...                                 ...   \n3751  https://github.com/abel533/Mapper   \n3752  https://github.com/abel533/Mapper   \n3753  https://github.com/abel533/Mapper   \n3754  https://github.com/abel533/Mapper   \n3755  https://github.com/abel533/Mapper   \n\n                                  SHA Detected Module Path  \\\n0     1764748eedb2f320a0d1c43cb4f928c4ccb1f2f5        core   \n1     1764748eedb2f320a0d1c43cb4f928c4ccb1f2f5        core   \n2     3c0b3307011fad53f811e08d05147d94fc6c0d67        base   \n3     3c0b3307011fad53f811e08d05147d94fc6c0d67        base   \n4     3c0b3307011fad53f811e08d05147d94fc6c0d67        base   \n...                                        ...         ...   \n3751  3c0b3307011fad53f811e08d05147d94fc6c0d67        base   \n3752  3c0b3307011fad53f811e08d05147d94fc6c0d67        base   \n3753  1764748eedb2f320a0d1c43cb4f928c4ccb1f2f5        core   \n3754  1764748eedb2f320a0d1c43cb4f928c4ccb1f2f5        core   \n3755  1764748eedb2f320a0d1c43cb4f928c4ccb1f2f5        core   \n\n     Fully-Qualified Test Name (packageName.ClassName.methodName) Category  \n0     tk.mybatis.mapper.mapperhelper.FieldHelperTest...                 ID  \n1     tk.mybatis.mapper.mapperhelper.SqlHelperTest.t...                 ID  \n2     tk.mybatis.mapper.test.able.TestBasicAble.test...                 OD  \n3     tk.mybatis.mapper.test.country.TestDeleteByPri...                 OD  \n4     tk.mybatis.mapper.test.country.TestDeleteByPri...                 OD  \n...                                                 ...                ...  \n3751  tk.mybatis.mapper.test.country.TestSelect.test...                 OD  \n3752  tk.mybatis.mapper.test.country.TestDeleteByPri...                 OD  \n3753  tk.mybatis.mapper.mapperhelper.FieldHelperTest...                 ID  \n3754  tk.mybatis.mapper.mapperhelper.ComplexEntityTe...                 ID  \n3755  tk.mybatis.mapper.annotation.IdTest.testCompos...                 ID  \n\n[3755 rows x 5 columns]",
      "text/html": "<div>\n<style scoped>\n    .dataframe tbody tr th:only-of-type {\n        vertical-align: middle;\n    }\n\n    .dataframe tbody tr th {\n        vertical-align: top;\n    }\n\n    .dataframe thead th {\n        text-align: right;\n    }\n</style>\n<table border=\"1\" class=\"dataframe\">\n  <thead>\n    <tr style=\"text-align: right;\">\n      <th></th>\n      <th>Project URL</th>\n      <th>SHA Detected</th>\n      <th>Module Path</th>\n      <th>Fully-Qualified Test Name (packageName.ClassName.methodName)</th>\n      <th>Category</th>\n    </tr>\n  </thead>\n  <tbody>\n    <tr>\n      <th>0</th>\n      <td>https://github.com/abel533/Mapper</td>\n      <td>1764748eedb2f320a0d1c43cb4f928c4ccb1f2f5</td>\n      <td>core</td>\n      <td>tk.mybatis.mapper.mapperhelper.FieldHelperTest...</td>\n      <td>ID</td>\n    </tr>\n    <tr>\n      <th>1</th>\n      <td>https://github.com/abel533/Mapper</td>\n      <td>1764748eedb2f320a0d1c43cb4f928c4ccb1f2f5</td>\n      <td>core</td>\n      <td>tk.mybatis.mapper.mapperhelper.SqlHelperTest.t...</td>\n      <td>ID</td>\n    </tr>\n    <tr>\n      <th>2</th>\n      <td>https://github.com/abel533/Mapper</td>\n      <td>3c0b3307011fad53f811e08d05147d94fc6c0d67</td>\n      <td>base</td>\n      <td>tk.mybatis.mapper.test.able.TestBasicAble.test...</td>\n      <td>OD</td>\n    </tr>\n    <tr>\n      <th>3</th>\n      <td>https://github.com/abel533/Mapper</td>\n      <td>3c0b3307011fad53f811e08d05147d94fc6c0d67</td>\n      <td>base</td>\n      <td>tk.mybatis.mapper.test.country.TestDeleteByPri...</td>\n      <td>OD</td>\n    </tr>\n    <tr>\n      <th>4</th>\n      <td>https://github.com/abel533/Mapper</td>\n      <td>3c0b3307011fad53f811e08d05147d94fc6c0d67</td>\n      <td>base</td>\n      <td>tk.mybatis.mapper.test.country.TestDeleteByPri...</td>\n      <td>OD</td>\n    </tr>\n    <tr>\n      <th>...</th>\n      <td>...</td>\n      <td>...</td>\n      <td>...</td>\n      <td>...</td>\n      <td>...</td>\n    </tr>\n    <tr>\n      <th>3751</th>\n      <td>https://github.com/abel533/Mapper</td>\n      <td>3c0b3307011fad53f811e08d05147d94fc6c0d67</td>\n      <td>base</td>\n      <td>tk.mybatis.mapper.test.country.TestSelect.test...</td>\n      <td>OD</td>\n    </tr>\n    <tr>\n      <th>3752</th>\n      <td>https://github.com/abel533/Mapper</td>\n      <td>3c0b3307011fad53f811e08d05147d94fc6c0d67</td>\n      <td>base</td>\n      <td>tk.mybatis.mapper.test.country.TestDeleteByPri...</td>\n      <td>OD</td>\n    </tr>\n    <tr>\n      <th>3753</th>\n      <td>https://github.com/abel533/Mapper</td>\n      <td>1764748eedb2f320a0d1c43cb4f928c4ccb1f2f5</td>\n      <td>core</td>\n      <td>tk.mybatis.mapper.mapperhelper.FieldHelperTest...</td>\n      <td>ID</td>\n    </tr>\n    <tr>\n      <th>3754</th>\n      <td>https://github.com/abel533/Mapper</td>\n      <td>1764748eedb2f320a0d1c43cb4f928c4ccb1f2f5</td>\n      <td>core</td>\n      <td>tk.mybatis.mapper.mapperhelper.ComplexEntityTe...</td>\n      <td>ID</td>\n    </tr>\n    <tr>\n      <th>3755</th>\n      <td>https://github.com/abel533/Mapper</td>\n      <td>1764748eedb2f320a0d1c43cb4f928c4ccb1f2f5</td>\n      <td>core</td>\n      <td>tk.mybatis.mapper.annotation.IdTest.testCompos...</td>\n      <td>ID</td>\n    </tr>\n  </tbody>\n</table>\n<p>3755 rows × 5 columns</p>\n</div>"
     },
     "execution_count": 104,
     "metadata": {},
     "output_type": "execute_result"
    }
   ],
   "source": [
    "dataset.drop(columns=[\"Status\",\"PR Link\",\"Days to Address PR\",\"Notes\"],inplace=True)\n",
    "dataset"
   ],
   "metadata": {
    "collapsed": false,
    "pycharm": {
     "name": "#%%\n"
    }
   }
  },
  {
   "cell_type": "code",
   "execution_count": 106,
   "outputs": [
    {
     "data": {
      "text/plain": "                           Project URL  \\\ncount                             3755   \nunique                             321   \ntop     https://github.com/apache/nifi   \nfreq                               179   \n\n                                    SHA Detected Module Path  \\\ncount                                       3755        3755   \nunique                                       397         415   \ntop     737f7a7ea67832d7f17517326fb2491d0a086dd7           .   \nfreq                                         145         924   \n\n       Fully-Qualified Test Name (packageName.ClassName.methodName) Category  \ncount                                                3755               3755  \nunique                                               3741                 30  \ntop     com.j256.ormlite.support.DatabaseConnectionPro...                 ID  \nfreq                                                    2               2064  ",
      "text/html": "<div>\n<style scoped>\n    .dataframe tbody tr th:only-of-type {\n        vertical-align: middle;\n    }\n\n    .dataframe tbody tr th {\n        vertical-align: top;\n    }\n\n    .dataframe thead th {\n        text-align: right;\n    }\n</style>\n<table border=\"1\" class=\"dataframe\">\n  <thead>\n    <tr style=\"text-align: right;\">\n      <th></th>\n      <th>Project URL</th>\n      <th>SHA Detected</th>\n      <th>Module Path</th>\n      <th>Fully-Qualified Test Name (packageName.ClassName.methodName)</th>\n      <th>Category</th>\n    </tr>\n  </thead>\n  <tbody>\n    <tr>\n      <th>count</th>\n      <td>3755</td>\n      <td>3755</td>\n      <td>3755</td>\n      <td>3755</td>\n      <td>3755</td>\n    </tr>\n    <tr>\n      <th>unique</th>\n      <td>321</td>\n      <td>397</td>\n      <td>415</td>\n      <td>3741</td>\n      <td>30</td>\n    </tr>\n    <tr>\n      <th>top</th>\n      <td>https://github.com/apache/nifi</td>\n      <td>737f7a7ea67832d7f17517326fb2491d0a086dd7</td>\n      <td>.</td>\n      <td>com.j256.ormlite.support.DatabaseConnectionPro...</td>\n      <td>ID</td>\n    </tr>\n    <tr>\n      <th>freq</th>\n      <td>179</td>\n      <td>145</td>\n      <td>924</td>\n      <td>2</td>\n      <td>2064</td>\n    </tr>\n  </tbody>\n</table>\n</div>"
     },
     "execution_count": 106,
     "metadata": {},
     "output_type": "execute_result"
    }
   ],
   "source": [
    "dataset.describe()"
   ],
   "metadata": {
    "collapsed": false,
    "pycharm": {
     "name": "#%%\n"
    }
   }
  }
 ],
 "metadata": {
  "kernelspec": {
   "display_name": "Python 3",
   "language": "python",
   "name": "python3"
  },
  "language_info": {
   "codemirror_mode": {
    "name": "ipython",
    "version": 2
   },
   "file_extension": ".py",
   "mimetype": "text/x-python",
   "name": "python",
   "nbconvert_exporter": "python",
   "pygments_lexer": "ipython2",
   "version": "2.7.6"
  }
 },
 "nbformat": 4,
 "nbformat_minor": 0
}