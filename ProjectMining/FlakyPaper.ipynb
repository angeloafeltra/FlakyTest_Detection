{
 "cells": [
  {
   "cell_type": "markdown",
   "source": [
    "# FlakyPaper"
   ],
   "metadata": {
    "collapsed": false,
    "pycharm": {
     "name": "#%% md\n"
    }
   }
  },
  {
   "cell_type": "markdown",
   "source": [
    "## Business Understanding"
   ],
   "metadata": {
    "collapsed": false,
    "pycharm": {
     "name": "#%% md\n"
    }
   }
  },
  {
   "cell_type": "markdown",
   "source": [
    "Whenever new code is written to develop or update software, a Web page, or an app, it must be tested throughout the development process to ensure that the application does what it is supposed to do when it is released for use. Logically, when subjected to the same test over and over again, the code will produce the same result: the application will either work correctly each time, thus passing the test, or it will not work correctly each time, thus failing the test.\n",
    "\n",
    "However, seemingly at random, occasionally the same test will produce different results on the same codebase. Sometimes it will show that the code passed the test and the application worked as planned, and sometimes it will show that the code failed the test and did not work as planned. When this happens, the test is considered flaky.\n",
    "\n",
    "Flaky can be caused by several factors:\n",
    "1. a problem with the code just written\n",
    "2. a problem with the test itself\n",
    "3. some external factors that compromise the test results.\n",
    "\n",
    "It is not always easy to detect such tests, it may happen that we run a test 10000 times and always have the same result, but if we run the test one more time we will have a different result. The purpose of \"FlakyPaper\" is..."
   ],
   "metadata": {
    "collapsed": false,
    "pycharm": {
     "name": "#%% md\n"
    }
   }
  },
  {
   "cell_type": "markdown",
   "source": [
    "## Data and Feature Engineering"
   ],
   "metadata": {
    "collapsed": false,
    "pycharm": {
     "name": "#%% md\n"
    }
   }
  },
  {
   "cell_type": "markdown",
   "source": [
    "There are two datasets to preprocess. The first is \"DatasetGenerale.csv\"."
   ],
   "metadata": {
    "collapsed": false,
    "pycharm": {
     "name": "#%% md\n"
    }
   }
  },
  {
   "cell_type": "code",
   "execution_count": 1,
   "outputs": [],
   "source": [
    "import pandas\n",
    "import os\n",
    "\n",
    "DATASET_NAME = \"DatasetGenerale.csv\"\n",
    "\n",
    "def loading_data_set(dataset_name):\n",
    "    current_directory = os.getcwd()\n",
    "    csv_path = os.path.join(current_directory,dataset_name)\n",
    "    return pandas.read_csv(csv_path)\n",
    "\n",
    "dataset = loading_data_set(DATASET_NAME)"
   ],
   "metadata": {
    "collapsed": false,
    "pycharm": {
     "name": "#%%\n"
    }
   }
  },
  {
   "cell_type": "markdown",
   "source": [
    "## Data Understanding"
   ],
   "metadata": {
    "collapsed": false,
    "pycharm": {
     "name": "#%% md\n"
    }
   }
  },
  {
   "cell_type": "code",
   "execution_count": 2,
   "outputs": [
    {
     "data": {
      "text/plain": "   idProject nameProject                                           testCase  \\\n0         50      Mapper  tk.mybatis.mapper.base.delete.DeleteByPrimaryK...   \n1         50      Mapper     tk.mybatis.mapper.helper.FieldHelperTest.test1   \n2         50      Mapper     tk.mybatis.mapper.helper.FieldHelperTest.test2   \n3         50      Mapper       tk.mybatis.mapper.helper.FieldHelperTest.run   \n4         50      Mapper       tk.mybatis.mapper.helper.FieldHelperTest.run   \n\n       tloc   tmcCabe  assertionDensity  assertionRoulette  mysteryGuest  \\\n0  0.210950  0.011719          0.011068           0.093755           0.0   \n1  0.006012  0.001503          0.000000           0.000000           0.0   \n2  0.015030  0.001002          0.000000           0.000000           0.0   \n3  0.001503  0.000501          0.000000           0.000000           0.0   \n4  0.001503  0.000501          0.000000           0.000000           0.0   \n\n   eagerTest  sensitiveEquality  ...       mpc  halsteadVocabulary  \\\n0   0.011719                0.0  ...  0.000000             0.41018   \n1   0.001002                0.0  ...  0.004509             1.00000   \n2   0.000501                0.0  ...  0.004509             1.00000   \n3   0.000000                0.0  ...  0.004509             1.00000   \n4   0.000000                0.0  ...  0.004509             1.00000   \n\n   halsteadLength  halsteadVolume  classDataShouldBePrivate  complexClass  \\\n0        0.281266        1.000000                       0.0           0.0   \n1        0.108216        0.822326                       0.0           0.0   \n2        0.108216        0.822326                       0.0           0.0   \n3        0.108216        0.822326                       0.0           0.0   \n4        0.108216        0.822326                       0.0           0.0   \n\n   functionalDecomposition  godClass  spaghettiCode  isFlaky  \n0                 0.011719       0.0            0.0        0  \n1                 0.000000       0.0            0.0        0  \n2                 0.000000       0.0            0.0        0  \n3                 0.000000       0.0            0.0        0  \n4                 0.000000       0.0            0.0        0  \n\n[5 rows x 30 columns]",
      "text/html": "<div>\n<style scoped>\n    .dataframe tbody tr th:only-of-type {\n        vertical-align: middle;\n    }\n\n    .dataframe tbody tr th {\n        vertical-align: top;\n    }\n\n    .dataframe thead th {\n        text-align: right;\n    }\n</style>\n<table border=\"1\" class=\"dataframe\">\n  <thead>\n    <tr style=\"text-align: right;\">\n      <th></th>\n      <th>idProject</th>\n      <th>nameProject</th>\n      <th>testCase</th>\n      <th>tloc</th>\n      <th>tmcCabe</th>\n      <th>assertionDensity</th>\n      <th>assertionRoulette</th>\n      <th>mysteryGuest</th>\n      <th>eagerTest</th>\n      <th>sensitiveEquality</th>\n      <th>...</th>\n      <th>mpc</th>\n      <th>halsteadVocabulary</th>\n      <th>halsteadLength</th>\n      <th>halsteadVolume</th>\n      <th>classDataShouldBePrivate</th>\n      <th>complexClass</th>\n      <th>functionalDecomposition</th>\n      <th>godClass</th>\n      <th>spaghettiCode</th>\n      <th>isFlaky</th>\n    </tr>\n  </thead>\n  <tbody>\n    <tr>\n      <th>0</th>\n      <td>50</td>\n      <td>Mapper</td>\n      <td>tk.mybatis.mapper.base.delete.DeleteByPrimaryK...</td>\n      <td>0.210950</td>\n      <td>0.011719</td>\n      <td>0.011068</td>\n      <td>0.093755</td>\n      <td>0.0</td>\n      <td>0.011719</td>\n      <td>0.0</td>\n      <td>...</td>\n      <td>0.000000</td>\n      <td>0.41018</td>\n      <td>0.281266</td>\n      <td>1.000000</td>\n      <td>0.0</td>\n      <td>0.0</td>\n      <td>0.011719</td>\n      <td>0.0</td>\n      <td>0.0</td>\n      <td>0</td>\n    </tr>\n    <tr>\n      <th>1</th>\n      <td>50</td>\n      <td>Mapper</td>\n      <td>tk.mybatis.mapper.helper.FieldHelperTest.test1</td>\n      <td>0.006012</td>\n      <td>0.001503</td>\n      <td>0.000000</td>\n      <td>0.000000</td>\n      <td>0.0</td>\n      <td>0.001002</td>\n      <td>0.0</td>\n      <td>...</td>\n      <td>0.004509</td>\n      <td>1.00000</td>\n      <td>0.108216</td>\n      <td>0.822326</td>\n      <td>0.0</td>\n      <td>0.0</td>\n      <td>0.000000</td>\n      <td>0.0</td>\n      <td>0.0</td>\n      <td>0</td>\n    </tr>\n    <tr>\n      <th>2</th>\n      <td>50</td>\n      <td>Mapper</td>\n      <td>tk.mybatis.mapper.helper.FieldHelperTest.test2</td>\n      <td>0.015030</td>\n      <td>0.001002</td>\n      <td>0.000000</td>\n      <td>0.000000</td>\n      <td>0.0</td>\n      <td>0.000501</td>\n      <td>0.0</td>\n      <td>...</td>\n      <td>0.004509</td>\n      <td>1.00000</td>\n      <td>0.108216</td>\n      <td>0.822326</td>\n      <td>0.0</td>\n      <td>0.0</td>\n      <td>0.000000</td>\n      <td>0.0</td>\n      <td>0.0</td>\n      <td>0</td>\n    </tr>\n    <tr>\n      <th>3</th>\n      <td>50</td>\n      <td>Mapper</td>\n      <td>tk.mybatis.mapper.helper.FieldHelperTest.run</td>\n      <td>0.001503</td>\n      <td>0.000501</td>\n      <td>0.000000</td>\n      <td>0.000000</td>\n      <td>0.0</td>\n      <td>0.000000</td>\n      <td>0.0</td>\n      <td>...</td>\n      <td>0.004509</td>\n      <td>1.00000</td>\n      <td>0.108216</td>\n      <td>0.822326</td>\n      <td>0.0</td>\n      <td>0.0</td>\n      <td>0.000000</td>\n      <td>0.0</td>\n      <td>0.0</td>\n      <td>0</td>\n    </tr>\n    <tr>\n      <th>4</th>\n      <td>50</td>\n      <td>Mapper</td>\n      <td>tk.mybatis.mapper.helper.FieldHelperTest.run</td>\n      <td>0.001503</td>\n      <td>0.000501</td>\n      <td>0.000000</td>\n      <td>0.000000</td>\n      <td>0.0</td>\n      <td>0.000000</td>\n      <td>0.0</td>\n      <td>...</td>\n      <td>0.004509</td>\n      <td>1.00000</td>\n      <td>0.108216</td>\n      <td>0.822326</td>\n      <td>0.0</td>\n      <td>0.0</td>\n      <td>0.000000</td>\n      <td>0.0</td>\n      <td>0.0</td>\n      <td>0</td>\n    </tr>\n  </tbody>\n</table>\n<p>5 rows × 30 columns</p>\n</div>"
     },
     "execution_count": 2,
     "metadata": {},
     "output_type": "execute_result"
    }
   ],
   "source": [
    "dataset.head()"
   ],
   "metadata": {
    "collapsed": false,
    "pycharm": {
     "name": "#%%\n"
    }
   }
  },
  {
   "cell_type": "code",
   "execution_count": 3,
   "outputs": [
    {
     "name": "stdout",
     "output_type": "stream",
     "text": [
      "<class 'pandas.core.frame.DataFrame'>\n",
      "RangeIndex: 322181 entries, 0 to 322180\n",
      "Data columns (total 30 columns):\n",
      " #   Column                    Non-Null Count   Dtype  \n",
      "---  ------                    --------------   -----  \n",
      " 0   idProject                 322181 non-null  int64  \n",
      " 1   nameProject               322181 non-null  object \n",
      " 2   testCase                  322181 non-null  object \n",
      " 3   tloc                      322181 non-null  float64\n",
      " 4   tmcCabe                   322181 non-null  float64\n",
      " 5   assertionDensity          322181 non-null  float64\n",
      " 6   assertionRoulette         322181 non-null  float64\n",
      " 7   mysteryGuest              322181 non-null  float64\n",
      " 8   eagerTest                 322181 non-null  float64\n",
      " 9   sensitiveEquality         322181 non-null  float64\n",
      " 10  resourceOptimism          322181 non-null  float64\n",
      " 11  conditionalTestLogic      322181 non-null  float64\n",
      " 12  fireAndForget             322181 non-null  float64\n",
      " 13  testRunWar                322181 non-null  float64\n",
      " 14  loc                       322181 non-null  float64\n",
      " 15  lcom2                     322181 non-null  float64\n",
      " 16  lcom5                     322181 non-null  float64\n",
      " 17  cbo                       322181 non-null  float64\n",
      " 18  wmc                       322181 non-null  float64\n",
      " 19  rfc                       322181 non-null  float64\n",
      " 20  mpc                       322181 non-null  float64\n",
      " 21  halsteadVocabulary        322181 non-null  float64\n",
      " 22  halsteadLength            322181 non-null  float64\n",
      " 23  halsteadVolume            322181 non-null  float64\n",
      " 24  classDataShouldBePrivate  322181 non-null  float64\n",
      " 25  complexClass              322181 non-null  float64\n",
      " 26  functionalDecomposition   322181 non-null  float64\n",
      " 27  godClass                  322181 non-null  float64\n",
      " 28  spaghettiCode             322181 non-null  float64\n",
      " 29  isFlaky                   322181 non-null  int64  \n",
      "dtypes: float64(26), int64(2), object(2)\n",
      "memory usage: 73.7+ MB\n"
     ]
    }
   ],
   "source": [
    "dataset.info()"
   ],
   "metadata": {
    "collapsed": false,
    "pycharm": {
     "name": "#%%\n"
    }
   }
  },
  {
   "cell_type": "markdown",
   "source": [
    "| Features                 | Descrizione                                                                                                        |\n",
    "|--------------------------|--------------------------------------------------------------------------------------------------------------------|\n",
    "| Id                       | Project id                                                                                                         |\n",
    "| NameProject              | Project name                                                                                                       |\n",
    "| TestCase                 | Test case in exam                                                                                                  |\n",
    "| tloc                     | Number of lines of code in a test suite                                                                          |\n",
    "| tmcCabe                  | Sum of cyclomatic complexities of all methods of a class                                                           |\n",
    "| assertionDensity         | Percentage of assercions in a test suite                                                                           |\n",
    "| assertionRoulette        | Metric indicating whether the test has more than one undocumented assertion                                        |\n",
    "| mysteryGuest             | Metric indicating whether the test uses an external resource (e.g., database,file ...)                             |\n",
    "| eagerTest                | Metric that indicates whether a test invokes several methods of the production object.                             |\n",
    "| sensitiveEquality        | Indicates whether the toString method and utilizzado in the test                                                   |\n",
    "| resourceOptimism         | Method that makes optimistic assumptions about the existence of a resource (e.g., file) used within it             |\n",
    "| conditionalTestLogic     | The test has conditional logic in it that does different things depending on the current environment.              |\n",
    "| fireAndForget            | Test ending prematurely as it does not wait for responses from external calls                                      |\n",
    "| loc                      | lines of code including comments                                                                                   |\n",
    "| lcom2                    | Modified lcom1                                                                                                     |\n",
    "| lcom5                    | Modified lcom1                                                                                                     |\n",
    "| cbo                      | Number of dependencies of a class with other classes                                                                |\n",
    "| wmc                      | Sum of the cyclomatic complexities of all methods of a class                                               |\n",
    "| rfc                      | Number of methods (including inherited methods) that can be called from other classes                           |\n",
    "| mpc                      |  numbers of messages passing among objects of the class                                                                                                                  |\n",
    "| halsteadVocabulary       | Gaussian                                                                                                           |\n",
    "| halsteadLength           | Total number of distinct operators and operands a function                                                     |\n",
    "| halsteadVolume           | Memory (in bits) required to store the program                                                           |\n",
    "| classDataShouldBePrivate | Class that exposes its attributes, violating the principle of information hiding.                                 |\n",
    "| complexClass             | Cyclomatic complexity of a class, or the number of linearly independent paths within the class |\n",
    "| functionalDecomposition  | Metric that indicates whether inheritance and polymorphism are used incorrectly in a class.                 |\n",
    "| godClass                 | Large class size implementing several responsibilities                                                  |\n",
    "| spaghettiCode            | Class does not possess a consistent structure e.g. an excessively long method that has no parameters   |\n",
    "| isFlaky                  | Boolean indicating whether the test is flaky or not                                                                   |"
   ],
   "metadata": {
    "collapsed": false,
    "pycharm": {
     "name": "#%% md\n"
    }
   }
  },
  {
   "cell_type": "code",
   "execution_count": 4,
   "outputs": [
    {
     "data": {
      "text/plain": "            idProject nameProject  \\\ncount   322181.000000      322181   \nunique            NaN         327   \ntop               NaN       guava   \nfreq              NaN       14980   \nmean        42.288024         NaN   \nstd         23.755676         NaN   \nmin          1.000000         NaN   \n25%         22.000000         NaN   \n50%         41.000000         NaN   \n75%         57.000000         NaN   \nmax         96.000000         NaN   \n\n                                                 testCase           tloc  \\\ncount                                              322181  322181.000000   \nunique                                             233238            NaN   \ntop     org.apache.hadoop.hbase.security.access.TestAc...            NaN   \nfreq                                                  355            NaN   \nmean                                                  NaN       0.012330   \nstd                                                   NaN       0.031721   \nmin                                                   NaN       0.000017   \n25%                                                   NaN       0.001863   \n50%                                                   NaN       0.004755   \n75%                                                   NaN       0.011588   \nmax                                                   NaN       1.000000   \n\n              tmcCabe  assertionDensity  assertionRoulette   mysteryGuest  \\\ncount   322181.000000     322181.000000      322181.000000  322181.000000   \nunique            NaN               NaN                NaN            NaN   \ntop               NaN               NaN                NaN            NaN   \nfreq              NaN               NaN                NaN            NaN   \nmean         0.003027          0.000159           0.001467       0.000378   \nstd          0.006596          0.000741           0.007905       0.003891   \nmin          0.000009          0.000000           0.000000       0.000000   \n25%          0.000484          0.000000           0.000000       0.000000   \n50%          0.001175          0.000000           0.000000       0.000000   \n75%          0.002893          0.000074           0.000904       0.000000   \nmax          0.333333          0.083333           0.975904       0.776669   \n\n            eagerTest  sensitiveEquality  ...            mpc  \\\ncount   322181.000000      322181.000000  ...  322181.000000   \nunique            NaN                NaN  ...            NaN   \ntop               NaN                NaN  ...            NaN   \nfreq              NaN                NaN  ...            NaN   \nmean         0.000952           0.000084  ...       0.025264   \nstd          0.002444           0.001204  ...       0.026259   \nmin          0.000000           0.000000  ...       0.000000   \n25%          0.000000           0.000000  ...       0.009206   \n50%          0.000000           0.000000  ...       0.019140   \n75%          0.000985           0.000000  ...       0.032590   \nmax          0.111269           0.189052  ...       0.336918   \n\n        halsteadVocabulary  halsteadLength  halsteadVolume  \\\ncount        322181.000000   322181.000000   322181.000000   \nunique                 NaN             NaN             NaN   \ntop                    NaN             NaN             NaN   \nfreq                   NaN             NaN             NaN   \nmean              0.615426        0.151499        0.980448   \nstd               0.184105        0.040100        0.084588   \nmin               0.030488        0.016053        0.084707   \n25%               0.481766        0.126994        1.000000   \n50%               0.584861        0.145530        1.000000   \n75%               0.723302        0.169416        1.000000   \nmax               1.000000        0.721348        1.000000   \n\n        classDataShouldBePrivate   complexClass  functionalDecomposition  \\\ncount              322181.000000  322181.000000            322181.000000   \nunique                       NaN            NaN                      NaN   \ntop                          NaN            NaN                      NaN   \nfreq                         NaN            NaN                      NaN   \nmean                    0.000183       0.002285                 0.000656   \nstd                     0.001581       0.008561                 0.003151   \nmin                     0.000000       0.000000                 0.000000   \n25%                     0.000000       0.000000                 0.000000   \n50%                     0.000000       0.000000                 0.000000   \n75%                     0.000000       0.000000                 0.000000   \nmax                     0.139025       0.107765                 0.100000   \n\n             godClass  spaghettiCode        isFlaky  \ncount   322181.000000  322181.000000  322181.000000  \nunique            NaN            NaN            NaN  \ntop               NaN            NaN            NaN  \nfreq              NaN            NaN            NaN  \nmean         0.003370       0.007121       0.006121  \nstd          0.048141       0.022045       0.077996  \nmin         -0.071535       0.000000       0.000000  \n25%          0.000000       0.000000       0.000000  \n50%          0.000000       0.000000       0.000000  \n75%          0.000000       0.000000       0.000000  \nmax          1.000000       0.153293       1.000000  \n\n[11 rows x 30 columns]",
      "text/html": "<div>\n<style scoped>\n    .dataframe tbody tr th:only-of-type {\n        vertical-align: middle;\n    }\n\n    .dataframe tbody tr th {\n        vertical-align: top;\n    }\n\n    .dataframe thead th {\n        text-align: right;\n    }\n</style>\n<table border=\"1\" class=\"dataframe\">\n  <thead>\n    <tr style=\"text-align: right;\">\n      <th></th>\n      <th>idProject</th>\n      <th>nameProject</th>\n      <th>testCase</th>\n      <th>tloc</th>\n      <th>tmcCabe</th>\n      <th>assertionDensity</th>\n      <th>assertionRoulette</th>\n      <th>mysteryGuest</th>\n      <th>eagerTest</th>\n      <th>sensitiveEquality</th>\n      <th>...</th>\n      <th>mpc</th>\n      <th>halsteadVocabulary</th>\n      <th>halsteadLength</th>\n      <th>halsteadVolume</th>\n      <th>classDataShouldBePrivate</th>\n      <th>complexClass</th>\n      <th>functionalDecomposition</th>\n      <th>godClass</th>\n      <th>spaghettiCode</th>\n      <th>isFlaky</th>\n    </tr>\n  </thead>\n  <tbody>\n    <tr>\n      <th>count</th>\n      <td>322181.000000</td>\n      <td>322181</td>\n      <td>322181</td>\n      <td>322181.000000</td>\n      <td>322181.000000</td>\n      <td>322181.000000</td>\n      <td>322181.000000</td>\n      <td>322181.000000</td>\n      <td>322181.000000</td>\n      <td>322181.000000</td>\n      <td>...</td>\n      <td>322181.000000</td>\n      <td>322181.000000</td>\n      <td>322181.000000</td>\n      <td>322181.000000</td>\n      <td>322181.000000</td>\n      <td>322181.000000</td>\n      <td>322181.000000</td>\n      <td>322181.000000</td>\n      <td>322181.000000</td>\n      <td>322181.000000</td>\n    </tr>\n    <tr>\n      <th>unique</th>\n      <td>NaN</td>\n      <td>327</td>\n      <td>233238</td>\n      <td>NaN</td>\n      <td>NaN</td>\n      <td>NaN</td>\n      <td>NaN</td>\n      <td>NaN</td>\n      <td>NaN</td>\n      <td>NaN</td>\n      <td>...</td>\n      <td>NaN</td>\n      <td>NaN</td>\n      <td>NaN</td>\n      <td>NaN</td>\n      <td>NaN</td>\n      <td>NaN</td>\n      <td>NaN</td>\n      <td>NaN</td>\n      <td>NaN</td>\n      <td>NaN</td>\n    </tr>\n    <tr>\n      <th>top</th>\n      <td>NaN</td>\n      <td>guava</td>\n      <td>org.apache.hadoop.hbase.security.access.TestAc...</td>\n      <td>NaN</td>\n      <td>NaN</td>\n      <td>NaN</td>\n      <td>NaN</td>\n      <td>NaN</td>\n      <td>NaN</td>\n      <td>NaN</td>\n      <td>...</td>\n      <td>NaN</td>\n      <td>NaN</td>\n      <td>NaN</td>\n      <td>NaN</td>\n      <td>NaN</td>\n      <td>NaN</td>\n      <td>NaN</td>\n      <td>NaN</td>\n      <td>NaN</td>\n      <td>NaN</td>\n    </tr>\n    <tr>\n      <th>freq</th>\n      <td>NaN</td>\n      <td>14980</td>\n      <td>355</td>\n      <td>NaN</td>\n      <td>NaN</td>\n      <td>NaN</td>\n      <td>NaN</td>\n      <td>NaN</td>\n      <td>NaN</td>\n      <td>NaN</td>\n      <td>...</td>\n      <td>NaN</td>\n      <td>NaN</td>\n      <td>NaN</td>\n      <td>NaN</td>\n      <td>NaN</td>\n      <td>NaN</td>\n      <td>NaN</td>\n      <td>NaN</td>\n      <td>NaN</td>\n      <td>NaN</td>\n    </tr>\n    <tr>\n      <th>mean</th>\n      <td>42.288024</td>\n      <td>NaN</td>\n      <td>NaN</td>\n      <td>0.012330</td>\n      <td>0.003027</td>\n      <td>0.000159</td>\n      <td>0.001467</td>\n      <td>0.000378</td>\n      <td>0.000952</td>\n      <td>0.000084</td>\n      <td>...</td>\n      <td>0.025264</td>\n      <td>0.615426</td>\n      <td>0.151499</td>\n      <td>0.980448</td>\n      <td>0.000183</td>\n      <td>0.002285</td>\n      <td>0.000656</td>\n      <td>0.003370</td>\n      <td>0.007121</td>\n      <td>0.006121</td>\n    </tr>\n    <tr>\n      <th>std</th>\n      <td>23.755676</td>\n      <td>NaN</td>\n      <td>NaN</td>\n      <td>0.031721</td>\n      <td>0.006596</td>\n      <td>0.000741</td>\n      <td>0.007905</td>\n      <td>0.003891</td>\n      <td>0.002444</td>\n      <td>0.001204</td>\n      <td>...</td>\n      <td>0.026259</td>\n      <td>0.184105</td>\n      <td>0.040100</td>\n      <td>0.084588</td>\n      <td>0.001581</td>\n      <td>0.008561</td>\n      <td>0.003151</td>\n      <td>0.048141</td>\n      <td>0.022045</td>\n      <td>0.077996</td>\n    </tr>\n    <tr>\n      <th>min</th>\n      <td>1.000000</td>\n      <td>NaN</td>\n      <td>NaN</td>\n      <td>0.000017</td>\n      <td>0.000009</td>\n      <td>0.000000</td>\n      <td>0.000000</td>\n      <td>0.000000</td>\n      <td>0.000000</td>\n      <td>0.000000</td>\n      <td>...</td>\n      <td>0.000000</td>\n      <td>0.030488</td>\n      <td>0.016053</td>\n      <td>0.084707</td>\n      <td>0.000000</td>\n      <td>0.000000</td>\n      <td>0.000000</td>\n      <td>-0.071535</td>\n      <td>0.000000</td>\n      <td>0.000000</td>\n    </tr>\n    <tr>\n      <th>25%</th>\n      <td>22.000000</td>\n      <td>NaN</td>\n      <td>NaN</td>\n      <td>0.001863</td>\n      <td>0.000484</td>\n      <td>0.000000</td>\n      <td>0.000000</td>\n      <td>0.000000</td>\n      <td>0.000000</td>\n      <td>0.000000</td>\n      <td>...</td>\n      <td>0.009206</td>\n      <td>0.481766</td>\n      <td>0.126994</td>\n      <td>1.000000</td>\n      <td>0.000000</td>\n      <td>0.000000</td>\n      <td>0.000000</td>\n      <td>0.000000</td>\n      <td>0.000000</td>\n      <td>0.000000</td>\n    </tr>\n    <tr>\n      <th>50%</th>\n      <td>41.000000</td>\n      <td>NaN</td>\n      <td>NaN</td>\n      <td>0.004755</td>\n      <td>0.001175</td>\n      <td>0.000000</td>\n      <td>0.000000</td>\n      <td>0.000000</td>\n      <td>0.000000</td>\n      <td>0.000000</td>\n      <td>...</td>\n      <td>0.019140</td>\n      <td>0.584861</td>\n      <td>0.145530</td>\n      <td>1.000000</td>\n      <td>0.000000</td>\n      <td>0.000000</td>\n      <td>0.000000</td>\n      <td>0.000000</td>\n      <td>0.000000</td>\n      <td>0.000000</td>\n    </tr>\n    <tr>\n      <th>75%</th>\n      <td>57.000000</td>\n      <td>NaN</td>\n      <td>NaN</td>\n      <td>0.011588</td>\n      <td>0.002893</td>\n      <td>0.000074</td>\n      <td>0.000904</td>\n      <td>0.000000</td>\n      <td>0.000985</td>\n      <td>0.000000</td>\n      <td>...</td>\n      <td>0.032590</td>\n      <td>0.723302</td>\n      <td>0.169416</td>\n      <td>1.000000</td>\n      <td>0.000000</td>\n      <td>0.000000</td>\n      <td>0.000000</td>\n      <td>0.000000</td>\n      <td>0.000000</td>\n      <td>0.000000</td>\n    </tr>\n    <tr>\n      <th>max</th>\n      <td>96.000000</td>\n      <td>NaN</td>\n      <td>NaN</td>\n      <td>1.000000</td>\n      <td>0.333333</td>\n      <td>0.083333</td>\n      <td>0.975904</td>\n      <td>0.776669</td>\n      <td>0.111269</td>\n      <td>0.189052</td>\n      <td>...</td>\n      <td>0.336918</td>\n      <td>1.000000</td>\n      <td>0.721348</td>\n      <td>1.000000</td>\n      <td>0.139025</td>\n      <td>0.107765</td>\n      <td>0.100000</td>\n      <td>1.000000</td>\n      <td>0.153293</td>\n      <td>1.000000</td>\n    </tr>\n  </tbody>\n</table>\n<p>11 rows × 30 columns</p>\n</div>"
     },
     "execution_count": 4,
     "metadata": {},
     "output_type": "execute_result"
    }
   ],
   "source": [
    "dataset.describe(include=\"all\")"
   ],
   "metadata": {
    "collapsed": false,
    "pycharm": {
     "name": "#%%\n"
    }
   }
  },
  {
   "cell_type": "code",
   "execution_count": 5,
   "outputs": [
    {
     "data": {
      "text/plain": "0         False\n1         False\n2         False\n3         False\n4          True\n          ...  \n322176    False\n322177    False\n322178    False\n322179    False\n322180    False\nLength: 322181, dtype: bool"
     },
     "execution_count": 5,
     "metadata": {},
     "output_type": "execute_result"
    }
   ],
   "source": [
    "dataset.duplicated()"
   ],
   "metadata": {
    "collapsed": false,
    "pycharm": {
     "name": "#%%\n"
    }
   }
  },
  {
   "cell_type": "markdown",
   "source": [
    "## Data Cleaning"
   ],
   "metadata": {
    "collapsed": false,
    "pycharm": {
     "name": "#%% md\n"
    }
   }
  },
  {
   "cell_type": "markdown",
   "source": [
    "The dataset presents some duplicates in its rows that should be dropped. Also, the index and samples that have \".setup\" or \".teardown\" in the \"testCase\" string should be removed too."
   ],
   "metadata": {
    "collapsed": false,
    "pycharm": {
     "name": "#%% md\n"
    }
   }
  },
  {
   "cell_type": "code",
   "execution_count": 6,
   "outputs": [],
   "source": [
    "dataset_copy = dataset.copy()\n",
    "dataset_copy = dataset_copy[dataset_copy['testCase'].str.lower().str.contains('.setup|.teardown') == False]\n",
    "dataset_copy = dataset_copy.drop_duplicates()\n",
    "dataset_copy = dataset_copy.reset_index()\n",
    "dataset_copy = dataset_copy.drop(['idProject','index'],axis=1)"
   ],
   "metadata": {
    "collapsed": false,
    "pycharm": {
     "name": "#%%\n"
    }
   }
  },
  {
   "cell_type": "markdown",
   "source": [
    "## Feature Engineering"
   ],
   "metadata": {
    "collapsed": false,
    "pycharm": {
     "name": "#%% md\n"
    }
   }
  },
  {
   "cell_type": "code",
   "execution_count": 6,
   "outputs": [],
   "source": [],
   "metadata": {
    "collapsed": false,
    "pycharm": {
     "name": "#%%\n"
    }
   }
  }
 ],
 "metadata": {
  "kernelspec": {
   "display_name": "Python 3",
   "language": "python",
   "name": "python3"
  },
  "language_info": {
   "codemirror_mode": {
    "name": "ipython",
    "version": 2
   },
   "file_extension": ".py",
   "mimetype": "text/x-python",
   "name": "python",
   "nbconvert_exporter": "python",
   "pygments_lexer": "ipython2",
   "version": "2.7.6"
  }
 },
 "nbformat": 4,
 "nbformat_minor": 0
}